{
 "cells": [
  {
   "cell_type": "markdown",
   "metadata": {},
   "source": [
    "# Imports and Environment"
   ]
  },
  {
   "cell_type": "code",
   "execution_count": 2,
   "metadata": {
    "ExecuteTime": {
     "end_time": "2019-09-16T17:15:18.519634Z",
     "start_time": "2019-09-16T17:15:17.190398Z"
    }
   },
   "outputs": [],
   "source": [
    "# Basic pandas and numpy\n",
    "import pandas as pd\n",
    "import numpy as np\n",
    "\n",
    "# Statistical analysis libraries\n",
    "import math\n",
    "from scipy import stats\n",
    "from scipy.stats import ttest_rel\n",
    "from scipy.stats import ttest_ind\n",
    "from scipy.stats import f_oneway\n",
    "from scipy.stats import normaltest\n",
    "from scipy.stats import chi2_contingency\n",
    " \n",
    "# Basic visualization tools\n",
    "import seaborn as sns\n",
    "import matplotlib.pyplot as plt\n",
    "%matplotlib inline\n",
    "\n",
    "# Advanced visualization tools\n",
    "import plotly as py\n",
    "import plotly.graph_objects as go\n",
    "import plotly.express as px\n",
    "import plotly.figure_factory as ff\n",
    "\n",
    "# Datetime libraries\n",
    "import datetime\n",
    " \n",
    "# Pandas defaults\n",
    "pd.options.display.max_columns = 500\n",
    "pd.options.display.max_rows = 500"
   ]
  },
  {
   "cell_type": "markdown",
   "metadata": {},
   "source": [
    "Defining an hypothesis checker function:"
   ]
  },
  {
   "cell_type": "code",
   "execution_count": 3,
   "metadata": {
    "ExecuteTime": {
     "end_time": "2019-09-16T17:15:18.555700Z",
     "start_time": "2019-09-16T17:15:18.550975Z"
    }
   },
   "outputs": [],
   "source": [
    "# Defining a hypothesis checker function:\n",
    "def hyp_checker(pvalue):\n",
    "    pvalue = pvalue.round(2)\n",
    "    # alpha = float(input(\"What's your alpha?\"))\n",
    "    alpha = 0.05\n",
    "    if type(alpha) != float:\n",
    "        print('Insert a correct alpha')\n",
    "        return hyp_checker(result)\n",
    "    else:\n",
    "        if pvalue <= alpha:\n",
    "            return \"Our p value ({}) is smaller than our alpha ({}). H0 is rejected\".format(pvalue, alpha)\n",
    "        else:\n",
    "            return \"Our p value ({}) is bigger than our alpha ({}). Fail to reject H0\".format(pvalue, alpha)"
   ]
  },
  {
   "cell_type": "markdown",
   "metadata": {},
   "source": [
    "# Dataset Import and EDA"
   ]
  },
  {
   "cell_type": "markdown",
   "metadata": {},
   "source": [
    "## Importing and subsetting"
   ]
  },
  {
   "cell_type": "code",
   "execution_count": 4,
   "metadata": {
    "ExecuteTime": {
     "end_time": "2019-09-16T17:15:35.302479Z",
     "start_time": "2019-09-16T17:15:18.581232Z"
    }
   },
   "outputs": [
    {
     "name": "stderr",
     "output_type": "stream",
     "text": [
      "/home/eiroamd/.local/lib/python3.6/site-packages/IPython/core/interactiveshell.py:3058: DtypeWarning:\n",
      "\n",
      "Columns (7,8) have mixed types. Specify dtype option on import or set low_memory=False.\n",
      "\n"
     ]
    }
   ],
   "source": [
    "flights_raw = pd.read_csv('../data/flights/flights.csv')"
   ]
  },
  {
   "cell_type": "markdown",
   "metadata": {},
   "source": [
    "As the dataframe has too many rows (almost 6 millions) I make a copy to work on, so I don't have to load it afterwards if I want to reverse any change:"
   ]
  },
  {
   "cell_type": "code",
   "execution_count": 5,
   "metadata": {
    "ExecuteTime": {
     "end_time": "2019-09-16T17:15:36.527668Z",
     "start_time": "2019-09-16T17:15:35.846797Z"
    }
   },
   "outputs": [],
   "source": [
    "flights = flights_raw.copy()"
   ]
  },
  {
   "cell_type": "markdown",
   "metadata": {},
   "source": [
    "Setting a constant of total flights using the length of the initial dataframe to get the proportions later:"
   ]
  },
  {
   "cell_type": "code",
   "execution_count": 6,
   "metadata": {
    "ExecuteTime": {
     "end_time": "2019-09-16T17:15:37.496891Z",
     "start_time": "2019-09-16T17:15:37.494786Z"
    }
   },
   "outputs": [],
   "source": [
    "TOTAL_FLIGHTS = len(flights)"
   ]
  },
  {
   "cell_type": "markdown",
   "metadata": {},
   "source": [
    "As I am going to perform the analysis mainly on the flights that have been delayed, I will make a subset."
   ]
  },
  {
   "cell_type": "code",
   "execution_count": 7,
   "metadata": {
    "ExecuteTime": {
     "end_time": "2019-09-16T17:15:38.828641Z",
     "start_time": "2019-09-16T17:15:38.486178Z"
    }
   },
   "outputs": [],
   "source": [
    "delayed = flights.loc[flights.ARRIVAL_DELAY > 0]"
   ]
  },
  {
   "cell_type": "markdown",
   "metadata": {},
   "source": [
    "## Column Explanations"
   ]
  },
  {
   "cell_type": "markdown",
   "metadata": {},
   "source": [
    "* **YEAR:** Year of the Flight Trip\n",
    "* **MONTH:** Month of the Flight Trip\n",
    "* **DAY:** Day of the Flight Trip\n",
    "* **DAY_OF_WEEK:** Day of week of the Flight Trip\n",
    "* **AIRLINE:** Airline Identifier\n",
    "* **FLIGHT_NUMBER:** Flight Identifier\n",
    "* **TAIL_NUMBER:** Aircraft Identifier\n",
    "* **ORIGIN_AIRPORT:** Starting Airport\n",
    "* **DESTINATION_AIRPORT:** Destination Airport\n",
    "* **SCHEDULED_DEPARTURE:** Planned Departure Time (as integer: first two digits hour, other two digits minutes)\n",
    "* **DEPARTURE_TIME:** Actual Departure Time\n",
    "* **DEPARTURE_DELAY:** Total Delay on Departure (in minutes). If + Delayed, if - Before.\n",
    "* **TAXI_OUT:** The time duration elapsed between departure from the origin airport gate and wheels off\n",
    "* **WHEELS_OFF:** The time point that the aircraft's wheels leave the ground\n",
    "* **SCHEDULED_TIME:** Planned time amount needed for the flight trip\n",
    "* **ELAPSED_TIME:** AIR_TIME+TAXI_IN+TAXI_OUT\n",
    "* **AIR_TIME:** The time duration between wheels_off and wheels_on time\n",
    "* **DISTANCE:** Distance between two airports\n",
    "* **WHEELS_ON:** The time point that the aircraft's wheels touch on the ground\n",
    "* **TAXI_IN:** The time duration elapsed between wheels-on and gate arrival at the destination airport\n",
    "* **SCHEDULED_ARRIVAL:** Planned arrival time\n",
    "* **ARRIVAL_TIME:** WHEELS_ON+TAXI_IN\n",
    "* **ARRIVAL_DELAY:** ARRIVAL_TIME-SCHEDULED_ARRIVAL. If + Delayed, if - Before.\n",
    "* **DIVERTED:** Aircraft landed on airport that out of schedule\n",
    "* **CANCELLED:** Flight Cancelled (1 = cancelled)\n",
    "* **CANCELLATION_REASON:** Reason for Cancellation of flight: A - Airline/Carrier; B - Weather; C - National Air System; D - Security\n",
    "* **AIR_SYSTEM_DELAY:** Delay caused by air system\n",
    "* **SECURITY_DELAY:** Delay caused by security\n",
    "* **AIRLINE_DELAY:** Delay caused by the airline\n",
    "* **LATE_AIRCRAFT_DELAY:** Delay caused by aircraft\n",
    "* **WEATHER_DELAY:** Delay caused by weather"
   ]
  },
  {
   "cell_type": "markdown",
   "metadata": {},
   "source": [
    "## EDA"
   ]
  },
  {
   "cell_type": "code",
   "execution_count": 8,
   "metadata": {
    "ExecuteTime": {
     "end_time": "2019-09-16T17:15:40.287531Z",
     "start_time": "2019-09-16T17:15:40.263411Z"
    }
   },
   "outputs": [
    {
     "data": {
      "text/html": [
       "<div>\n",
       "<style scoped>\n",
       "    .dataframe tbody tr th:only-of-type {\n",
       "        vertical-align: middle;\n",
       "    }\n",
       "\n",
       "    .dataframe tbody tr th {\n",
       "        vertical-align: top;\n",
       "    }\n",
       "\n",
       "    .dataframe thead th {\n",
       "        text-align: right;\n",
       "    }\n",
       "</style>\n",
       "<table border=\"1\" class=\"dataframe\">\n",
       "  <thead>\n",
       "    <tr style=\"text-align: right;\">\n",
       "      <th></th>\n",
       "      <th>YEAR</th>\n",
       "      <th>MONTH</th>\n",
       "      <th>DAY</th>\n",
       "      <th>DAY_OF_WEEK</th>\n",
       "      <th>AIRLINE</th>\n",
       "      <th>FLIGHT_NUMBER</th>\n",
       "      <th>TAIL_NUMBER</th>\n",
       "      <th>ORIGIN_AIRPORT</th>\n",
       "      <th>DESTINATION_AIRPORT</th>\n",
       "      <th>SCHEDULED_DEPARTURE</th>\n",
       "      <th>DEPARTURE_TIME</th>\n",
       "      <th>DEPARTURE_DELAY</th>\n",
       "      <th>TAXI_OUT</th>\n",
       "      <th>WHEELS_OFF</th>\n",
       "      <th>SCHEDULED_TIME</th>\n",
       "      <th>ELAPSED_TIME</th>\n",
       "      <th>AIR_TIME</th>\n",
       "      <th>DISTANCE</th>\n",
       "      <th>WHEELS_ON</th>\n",
       "      <th>TAXI_IN</th>\n",
       "      <th>SCHEDULED_ARRIVAL</th>\n",
       "      <th>ARRIVAL_TIME</th>\n",
       "      <th>ARRIVAL_DELAY</th>\n",
       "      <th>DIVERTED</th>\n",
       "      <th>CANCELLED</th>\n",
       "      <th>CANCELLATION_REASON</th>\n",
       "      <th>AIR_SYSTEM_DELAY</th>\n",
       "      <th>SECURITY_DELAY</th>\n",
       "      <th>AIRLINE_DELAY</th>\n",
       "      <th>LATE_AIRCRAFT_DELAY</th>\n",
       "      <th>WEATHER_DELAY</th>\n",
       "    </tr>\n",
       "  </thead>\n",
       "  <tbody>\n",
       "    <tr>\n",
       "      <th>2</th>\n",
       "      <td>2015</td>\n",
       "      <td>1</td>\n",
       "      <td>1</td>\n",
       "      <td>4</td>\n",
       "      <td>US</td>\n",
       "      <td>840</td>\n",
       "      <td>N171US</td>\n",
       "      <td>SFO</td>\n",
       "      <td>CLT</td>\n",
       "      <td>20</td>\n",
       "      <td>18.0</td>\n",
       "      <td>-2.0</td>\n",
       "      <td>16.0</td>\n",
       "      <td>34.0</td>\n",
       "      <td>286.0</td>\n",
       "      <td>293.0</td>\n",
       "      <td>266.0</td>\n",
       "      <td>2296</td>\n",
       "      <td>800.0</td>\n",
       "      <td>11.0</td>\n",
       "      <td>806</td>\n",
       "      <td>811.0</td>\n",
       "      <td>5.0</td>\n",
       "      <td>0</td>\n",
       "      <td>0</td>\n",
       "      <td>NaN</td>\n",
       "      <td>NaN</td>\n",
       "      <td>NaN</td>\n",
       "      <td>NaN</td>\n",
       "      <td>NaN</td>\n",
       "      <td>NaN</td>\n",
       "    </tr>\n",
       "    <tr>\n",
       "      <th>5</th>\n",
       "      <td>2015</td>\n",
       "      <td>1</td>\n",
       "      <td>1</td>\n",
       "      <td>4</td>\n",
       "      <td>DL</td>\n",
       "      <td>806</td>\n",
       "      <td>N3730B</td>\n",
       "      <td>SFO</td>\n",
       "      <td>MSP</td>\n",
       "      <td>25</td>\n",
       "      <td>20.0</td>\n",
       "      <td>-5.0</td>\n",
       "      <td>18.0</td>\n",
       "      <td>38.0</td>\n",
       "      <td>217.0</td>\n",
       "      <td>230.0</td>\n",
       "      <td>206.0</td>\n",
       "      <td>1589</td>\n",
       "      <td>604.0</td>\n",
       "      <td>6.0</td>\n",
       "      <td>602</td>\n",
       "      <td>610.0</td>\n",
       "      <td>8.0</td>\n",
       "      <td>0</td>\n",
       "      <td>0</td>\n",
       "      <td>NaN</td>\n",
       "      <td>NaN</td>\n",
       "      <td>NaN</td>\n",
       "      <td>NaN</td>\n",
       "      <td>NaN</td>\n",
       "      <td>NaN</td>\n",
       "    </tr>\n",
       "    <tr>\n",
       "      <th>14</th>\n",
       "      <td>2015</td>\n",
       "      <td>1</td>\n",
       "      <td>1</td>\n",
       "      <td>4</td>\n",
       "      <td>DL</td>\n",
       "      <td>2440</td>\n",
       "      <td>N651DL</td>\n",
       "      <td>SEA</td>\n",
       "      <td>MSP</td>\n",
       "      <td>40</td>\n",
       "      <td>39.0</td>\n",
       "      <td>-1.0</td>\n",
       "      <td>28.0</td>\n",
       "      <td>107.0</td>\n",
       "      <td>189.0</td>\n",
       "      <td>198.0</td>\n",
       "      <td>166.0</td>\n",
       "      <td>1399</td>\n",
       "      <td>553.0</td>\n",
       "      <td>4.0</td>\n",
       "      <td>549</td>\n",
       "      <td>557.0</td>\n",
       "      <td>8.0</td>\n",
       "      <td>0</td>\n",
       "      <td>0</td>\n",
       "      <td>NaN</td>\n",
       "      <td>NaN</td>\n",
       "      <td>NaN</td>\n",
       "      <td>NaN</td>\n",
       "      <td>NaN</td>\n",
       "      <td>NaN</td>\n",
       "    </tr>\n",
       "    <tr>\n",
       "      <th>20</th>\n",
       "      <td>2015</td>\n",
       "      <td>1</td>\n",
       "      <td>1</td>\n",
       "      <td>4</td>\n",
       "      <td>NK</td>\n",
       "      <td>520</td>\n",
       "      <td>N525NK</td>\n",
       "      <td>LAS</td>\n",
       "      <td>MCI</td>\n",
       "      <td>55</td>\n",
       "      <td>120.0</td>\n",
       "      <td>25.0</td>\n",
       "      <td>11.0</td>\n",
       "      <td>131.0</td>\n",
       "      <td>162.0</td>\n",
       "      <td>143.0</td>\n",
       "      <td>128.0</td>\n",
       "      <td>1139</td>\n",
       "      <td>539.0</td>\n",
       "      <td>4.0</td>\n",
       "      <td>537</td>\n",
       "      <td>543.0</td>\n",
       "      <td>6.0</td>\n",
       "      <td>0</td>\n",
       "      <td>0</td>\n",
       "      <td>NaN</td>\n",
       "      <td>NaN</td>\n",
       "      <td>NaN</td>\n",
       "      <td>NaN</td>\n",
       "      <td>NaN</td>\n",
       "      <td>NaN</td>\n",
       "    </tr>\n",
       "    <tr>\n",
       "      <th>21</th>\n",
       "      <td>2015</td>\n",
       "      <td>1</td>\n",
       "      <td>1</td>\n",
       "      <td>4</td>\n",
       "      <td>AA</td>\n",
       "      <td>371</td>\n",
       "      <td>N3GXAA</td>\n",
       "      <td>SEA</td>\n",
       "      <td>MIA</td>\n",
       "      <td>100</td>\n",
       "      <td>52.0</td>\n",
       "      <td>-8.0</td>\n",
       "      <td>30.0</td>\n",
       "      <td>122.0</td>\n",
       "      <td>338.0</td>\n",
       "      <td>347.0</td>\n",
       "      <td>311.0</td>\n",
       "      <td>2724</td>\n",
       "      <td>933.0</td>\n",
       "      <td>6.0</td>\n",
       "      <td>938</td>\n",
       "      <td>939.0</td>\n",
       "      <td>1.0</td>\n",
       "      <td>0</td>\n",
       "      <td>0</td>\n",
       "      <td>NaN</td>\n",
       "      <td>NaN</td>\n",
       "      <td>NaN</td>\n",
       "      <td>NaN</td>\n",
       "      <td>NaN</td>\n",
       "      <td>NaN</td>\n",
       "    </tr>\n",
       "  </tbody>\n",
       "</table>\n",
       "</div>"
      ],
      "text/plain": [
       "    YEAR  MONTH  DAY  DAY_OF_WEEK AIRLINE  FLIGHT_NUMBER TAIL_NUMBER  \\\n",
       "2   2015      1    1            4      US            840      N171US   \n",
       "5   2015      1    1            4      DL            806      N3730B   \n",
       "14  2015      1    1            4      DL           2440      N651DL   \n",
       "20  2015      1    1            4      NK            520      N525NK   \n",
       "21  2015      1    1            4      AA            371      N3GXAA   \n",
       "\n",
       "   ORIGIN_AIRPORT DESTINATION_AIRPORT  SCHEDULED_DEPARTURE  DEPARTURE_TIME  \\\n",
       "2             SFO                 CLT                   20            18.0   \n",
       "5             SFO                 MSP                   25            20.0   \n",
       "14            SEA                 MSP                   40            39.0   \n",
       "20            LAS                 MCI                   55           120.0   \n",
       "21            SEA                 MIA                  100            52.0   \n",
       "\n",
       "    DEPARTURE_DELAY  TAXI_OUT  WHEELS_OFF  SCHEDULED_TIME  ELAPSED_TIME  \\\n",
       "2              -2.0      16.0        34.0           286.0         293.0   \n",
       "5              -5.0      18.0        38.0           217.0         230.0   \n",
       "14             -1.0      28.0       107.0           189.0         198.0   \n",
       "20             25.0      11.0       131.0           162.0         143.0   \n",
       "21             -8.0      30.0       122.0           338.0         347.0   \n",
       "\n",
       "    AIR_TIME  DISTANCE  WHEELS_ON  TAXI_IN  SCHEDULED_ARRIVAL  ARRIVAL_TIME  \\\n",
       "2      266.0      2296      800.0     11.0                806         811.0   \n",
       "5      206.0      1589      604.0      6.0                602         610.0   \n",
       "14     166.0      1399      553.0      4.0                549         557.0   \n",
       "20     128.0      1139      539.0      4.0                537         543.0   \n",
       "21     311.0      2724      933.0      6.0                938         939.0   \n",
       "\n",
       "    ARRIVAL_DELAY  DIVERTED  CANCELLED CANCELLATION_REASON  AIR_SYSTEM_DELAY  \\\n",
       "2             5.0         0          0                 NaN               NaN   \n",
       "5             8.0         0          0                 NaN               NaN   \n",
       "14            8.0         0          0                 NaN               NaN   \n",
       "20            6.0         0          0                 NaN               NaN   \n",
       "21            1.0         0          0                 NaN               NaN   \n",
       "\n",
       "    SECURITY_DELAY  AIRLINE_DELAY  LATE_AIRCRAFT_DELAY  WEATHER_DELAY  \n",
       "2              NaN            NaN                  NaN            NaN  \n",
       "5              NaN            NaN                  NaN            NaN  \n",
       "14             NaN            NaN                  NaN            NaN  \n",
       "20             NaN            NaN                  NaN            NaN  \n",
       "21             NaN            NaN                  NaN            NaN  "
      ]
     },
     "execution_count": 8,
     "metadata": {},
     "output_type": "execute_result"
    }
   ],
   "source": [
    "delayed.head()"
   ]
  },
  {
   "cell_type": "code",
   "execution_count": 9,
   "metadata": {
    "ExecuteTime": {
     "end_time": "2019-09-16T17:15:41.740837Z",
     "start_time": "2019-09-16T17:15:41.736984Z"
    }
   },
   "outputs": [
    {
     "name": "stdout",
     "output_type": "stream",
     "text": [
      "Dataframe dimensions: 2086896 rows x 31 columns\n"
     ]
    }
   ],
   "source": [
    "print('Dataframe dimensions: {} rows x {} columns'.format(delayed.shape[0], delayed.shape[1]))"
   ]
  },
  {
   "cell_type": "markdown",
   "metadata": {},
   "source": [
    "### Describing numerical values statistics"
   ]
  },
  {
   "cell_type": "code",
   "execution_count": 10,
   "metadata": {
    "ExecuteTime": {
     "end_time": "2019-09-16T17:15:45.954537Z",
     "start_time": "2019-09-16T17:15:43.348782Z"
    }
   },
   "outputs": [],
   "source": [
    "descriptive = delayed.describe()[['ARRIVAL_DELAY', 'DEPARTURE_DELAY', 'AIR_TIME', 'ELAPSED_TIME']].T\n",
    "descriptive['IQR'] = descriptive['75%'] - descriptive['25%']"
   ]
  },
  {
   "cell_type": "code",
   "execution_count": 11,
   "metadata": {
    "ExecuteTime": {
     "end_time": "2019-09-16T17:15:47.439878Z",
     "start_time": "2019-09-16T17:15:47.427850Z"
    }
   },
   "outputs": [
    {
     "data": {
      "text/html": [
       "<div>\n",
       "<style scoped>\n",
       "    .dataframe tbody tr th:only-of-type {\n",
       "        vertical-align: middle;\n",
       "    }\n",
       "\n",
       "    .dataframe tbody tr th {\n",
       "        vertical-align: top;\n",
       "    }\n",
       "\n",
       "    .dataframe thead th {\n",
       "        text-align: right;\n",
       "    }\n",
       "</style>\n",
       "<table border=\"1\" class=\"dataframe\">\n",
       "  <thead>\n",
       "    <tr style=\"text-align: right;\">\n",
       "      <th></th>\n",
       "      <th>count</th>\n",
       "      <th>mean</th>\n",
       "      <th>std</th>\n",
       "      <th>min</th>\n",
       "      <th>25%</th>\n",
       "      <th>50%</th>\n",
       "      <th>75%</th>\n",
       "      <th>max</th>\n",
       "      <th>IQR</th>\n",
       "    </tr>\n",
       "  </thead>\n",
       "  <tbody>\n",
       "    <tr>\n",
       "      <th>ARRIVAL_DELAY</th>\n",
       "      <td>2086896.0</td>\n",
       "      <td>33.112990</td>\n",
       "      <td>52.942508</td>\n",
       "      <td>1.0</td>\n",
       "      <td>6.0</td>\n",
       "      <td>15.0</td>\n",
       "      <td>38.0</td>\n",
       "      <td>1971.0</td>\n",
       "      <td>32.0</td>\n",
       "    </tr>\n",
       "    <tr>\n",
       "      <th>DEPARTURE_DELAY</th>\n",
       "      <td>2086896.0</td>\n",
       "      <td>30.290374</td>\n",
       "      <td>54.606989</td>\n",
       "      <td>-42.0</td>\n",
       "      <td>0.0</td>\n",
       "      <td>13.0</td>\n",
       "      <td>38.0</td>\n",
       "      <td>1988.0</td>\n",
       "      <td>38.0</td>\n",
       "    </tr>\n",
       "    <tr>\n",
       "      <th>AIR_TIME</th>\n",
       "      <td>2086896.0</td>\n",
       "      <td>115.916197</td>\n",
       "      <td>73.711731</td>\n",
       "      <td>7.0</td>\n",
       "      <td>61.0</td>\n",
       "      <td>97.0</td>\n",
       "      <td>147.0</td>\n",
       "      <td>690.0</td>\n",
       "      <td>86.0</td>\n",
       "    </tr>\n",
       "    <tr>\n",
       "      <th>ELAPSED_TIME</th>\n",
       "      <td>2086896.0</td>\n",
       "      <td>143.719285</td>\n",
       "      <td>76.123927</td>\n",
       "      <td>15.0</td>\n",
       "      <td>88.0</td>\n",
       "      <td>126.0</td>\n",
       "      <td>177.0</td>\n",
       "      <td>766.0</td>\n",
       "      <td>89.0</td>\n",
       "    </tr>\n",
       "  </tbody>\n",
       "</table>\n",
       "</div>"
      ],
      "text/plain": [
       "                     count        mean        std   min   25%    50%    75%  \\\n",
       "ARRIVAL_DELAY    2086896.0   33.112990  52.942508   1.0   6.0   15.0   38.0   \n",
       "DEPARTURE_DELAY  2086896.0   30.290374  54.606989 -42.0   0.0   13.0   38.0   \n",
       "AIR_TIME         2086896.0  115.916197  73.711731   7.0  61.0   97.0  147.0   \n",
       "ELAPSED_TIME     2086896.0  143.719285  76.123927  15.0  88.0  126.0  177.0   \n",
       "\n",
       "                    max   IQR  \n",
       "ARRIVAL_DELAY    1971.0  32.0  \n",
       "DEPARTURE_DELAY  1988.0  38.0  \n",
       "AIR_TIME          690.0  86.0  \n",
       "ELAPSED_TIME      766.0  89.0  "
      ]
     },
     "execution_count": 11,
     "metadata": {},
     "output_type": "execute_result"
    }
   ],
   "source": [
    "descriptive"
   ]
  },
  {
   "cell_type": "markdown",
   "metadata": {},
   "source": [
    "### Information of column types and NaN values"
   ]
  },
  {
   "cell_type": "markdown",
   "metadata": {},
   "source": [
    "Creating a table with type of variable, number of absolute null values (NV) and relative null values (%):"
   ]
  },
  {
   "cell_type": "code",
   "execution_count": 12,
   "metadata": {
    "ExecuteTime": {
     "end_time": "2019-09-16T17:15:51.121449Z",
     "start_time": "2019-09-16T17:15:48.956038Z"
    }
   },
   "outputs": [],
   "source": [
    "tab_info=pd.DataFrame(delayed.dtypes).T.rename(index={0:'column type'})\n",
    "tab_info=tab_info.append(pd.DataFrame(delayed.isnull().sum()).T.rename(index={0:'null values (NV)'}))\n",
    "tab_info=tab_info.append(pd.DataFrame(delayed.isnull().sum()/delayed.shape[0]*100).T.rename(index={0:'null values (%)'}))"
   ]
  },
  {
   "cell_type": "code",
   "execution_count": 13,
   "metadata": {
    "ExecuteTime": {
     "end_time": "2019-09-16T17:15:52.634835Z",
     "start_time": "2019-09-16T17:15:52.610499Z"
    }
   },
   "outputs": [
    {
     "data": {
      "text/html": [
       "<div>\n",
       "<style scoped>\n",
       "    .dataframe tbody tr th:only-of-type {\n",
       "        vertical-align: middle;\n",
       "    }\n",
       "\n",
       "    .dataframe tbody tr th {\n",
       "        vertical-align: top;\n",
       "    }\n",
       "\n",
       "    .dataframe thead th {\n",
       "        text-align: right;\n",
       "    }\n",
       "</style>\n",
       "<table border=\"1\" class=\"dataframe\">\n",
       "  <thead>\n",
       "    <tr style=\"text-align: right;\">\n",
       "      <th></th>\n",
       "      <th>YEAR</th>\n",
       "      <th>MONTH</th>\n",
       "      <th>DAY</th>\n",
       "      <th>DAY_OF_WEEK</th>\n",
       "      <th>AIRLINE</th>\n",
       "      <th>FLIGHT_NUMBER</th>\n",
       "      <th>TAIL_NUMBER</th>\n",
       "      <th>ORIGIN_AIRPORT</th>\n",
       "      <th>DESTINATION_AIRPORT</th>\n",
       "      <th>SCHEDULED_DEPARTURE</th>\n",
       "      <th>DEPARTURE_TIME</th>\n",
       "      <th>DEPARTURE_DELAY</th>\n",
       "      <th>TAXI_OUT</th>\n",
       "      <th>WHEELS_OFF</th>\n",
       "      <th>SCHEDULED_TIME</th>\n",
       "      <th>ELAPSED_TIME</th>\n",
       "      <th>AIR_TIME</th>\n",
       "      <th>DISTANCE</th>\n",
       "      <th>WHEELS_ON</th>\n",
       "      <th>TAXI_IN</th>\n",
       "      <th>SCHEDULED_ARRIVAL</th>\n",
       "      <th>ARRIVAL_TIME</th>\n",
       "      <th>ARRIVAL_DELAY</th>\n",
       "      <th>DIVERTED</th>\n",
       "      <th>CANCELLED</th>\n",
       "      <th>CANCELLATION_REASON</th>\n",
       "      <th>AIR_SYSTEM_DELAY</th>\n",
       "      <th>SECURITY_DELAY</th>\n",
       "      <th>AIRLINE_DELAY</th>\n",
       "      <th>LATE_AIRCRAFT_DELAY</th>\n",
       "      <th>WEATHER_DELAY</th>\n",
       "    </tr>\n",
       "  </thead>\n",
       "  <tbody>\n",
       "    <tr>\n",
       "      <th>column type</th>\n",
       "      <td>int64</td>\n",
       "      <td>int64</td>\n",
       "      <td>int64</td>\n",
       "      <td>int64</td>\n",
       "      <td>object</td>\n",
       "      <td>int64</td>\n",
       "      <td>object</td>\n",
       "      <td>object</td>\n",
       "      <td>object</td>\n",
       "      <td>int64</td>\n",
       "      <td>float64</td>\n",
       "      <td>float64</td>\n",
       "      <td>float64</td>\n",
       "      <td>float64</td>\n",
       "      <td>float64</td>\n",
       "      <td>float64</td>\n",
       "      <td>float64</td>\n",
       "      <td>int64</td>\n",
       "      <td>float64</td>\n",
       "      <td>float64</td>\n",
       "      <td>int64</td>\n",
       "      <td>float64</td>\n",
       "      <td>float64</td>\n",
       "      <td>int64</td>\n",
       "      <td>int64</td>\n",
       "      <td>object</td>\n",
       "      <td>float64</td>\n",
       "      <td>float64</td>\n",
       "      <td>float64</td>\n",
       "      <td>float64</td>\n",
       "      <td>float64</td>\n",
       "    </tr>\n",
       "    <tr>\n",
       "      <th>null values (NV)</th>\n",
       "      <td>0</td>\n",
       "      <td>0</td>\n",
       "      <td>0</td>\n",
       "      <td>0</td>\n",
       "      <td>0</td>\n",
       "      <td>0</td>\n",
       "      <td>0</td>\n",
       "      <td>0</td>\n",
       "      <td>0</td>\n",
       "      <td>0</td>\n",
       "      <td>0</td>\n",
       "      <td>0</td>\n",
       "      <td>0</td>\n",
       "      <td>0</td>\n",
       "      <td>0</td>\n",
       "      <td>0</td>\n",
       "      <td>0</td>\n",
       "      <td>0</td>\n",
       "      <td>0</td>\n",
       "      <td>0</td>\n",
       "      <td>0</td>\n",
       "      <td>0</td>\n",
       "      <td>0</td>\n",
       "      <td>0</td>\n",
       "      <td>0</td>\n",
       "      <td>2086896</td>\n",
       "      <td>1023457</td>\n",
       "      <td>1023457</td>\n",
       "      <td>1023457</td>\n",
       "      <td>1023457</td>\n",
       "      <td>1023457</td>\n",
       "    </tr>\n",
       "    <tr>\n",
       "      <th>null values (%)</th>\n",
       "      <td>0</td>\n",
       "      <td>0</td>\n",
       "      <td>0</td>\n",
       "      <td>0</td>\n",
       "      <td>0</td>\n",
       "      <td>0</td>\n",
       "      <td>0</td>\n",
       "      <td>0</td>\n",
       "      <td>0</td>\n",
       "      <td>0</td>\n",
       "      <td>0</td>\n",
       "      <td>0</td>\n",
       "      <td>0</td>\n",
       "      <td>0</td>\n",
       "      <td>0</td>\n",
       "      <td>0</td>\n",
       "      <td>0</td>\n",
       "      <td>0</td>\n",
       "      <td>0</td>\n",
       "      <td>0</td>\n",
       "      <td>0</td>\n",
       "      <td>0</td>\n",
       "      <td>0</td>\n",
       "      <td>0</td>\n",
       "      <td>0</td>\n",
       "      <td>100</td>\n",
       "      <td>49.0421</td>\n",
       "      <td>49.0421</td>\n",
       "      <td>49.0421</td>\n",
       "      <td>49.0421</td>\n",
       "      <td>49.0421</td>\n",
       "    </tr>\n",
       "  </tbody>\n",
       "</table>\n",
       "</div>"
      ],
      "text/plain": [
       "                   YEAR  MONTH    DAY DAY_OF_WEEK AIRLINE FLIGHT_NUMBER  \\\n",
       "column type       int64  int64  int64       int64  object         int64   \n",
       "null values (NV)      0      0      0           0       0             0   \n",
       "null values (%)       0      0      0           0       0             0   \n",
       "\n",
       "                 TAIL_NUMBER ORIGIN_AIRPORT DESTINATION_AIRPORT  \\\n",
       "column type           object         object              object   \n",
       "null values (NV)           0              0                   0   \n",
       "null values (%)            0              0                   0   \n",
       "\n",
       "                 SCHEDULED_DEPARTURE DEPARTURE_TIME DEPARTURE_DELAY TAXI_OUT  \\\n",
       "column type                    int64        float64         float64  float64   \n",
       "null values (NV)                   0              0               0        0   \n",
       "null values (%)                    0              0               0        0   \n",
       "\n",
       "                 WHEELS_OFF SCHEDULED_TIME ELAPSED_TIME AIR_TIME DISTANCE  \\\n",
       "column type         float64        float64      float64  float64    int64   \n",
       "null values (NV)          0              0            0        0        0   \n",
       "null values (%)           0              0            0        0        0   \n",
       "\n",
       "                 WHEELS_ON  TAXI_IN SCHEDULED_ARRIVAL ARRIVAL_TIME  \\\n",
       "column type        float64  float64             int64      float64   \n",
       "null values (NV)         0        0                 0            0   \n",
       "null values (%)          0        0                 0            0   \n",
       "\n",
       "                 ARRIVAL_DELAY DIVERTED CANCELLED CANCELLATION_REASON  \\\n",
       "column type            float64    int64     int64              object   \n",
       "null values (NV)             0        0         0             2086896   \n",
       "null values (%)              0        0         0                 100   \n",
       "\n",
       "                 AIR_SYSTEM_DELAY SECURITY_DELAY AIRLINE_DELAY  \\\n",
       "column type               float64        float64       float64   \n",
       "null values (NV)          1023457        1023457       1023457   \n",
       "null values (%)           49.0421        49.0421       49.0421   \n",
       "\n",
       "                 LATE_AIRCRAFT_DELAY WEATHER_DELAY  \n",
       "column type                  float64       float64  \n",
       "null values (NV)             1023457       1023457  \n",
       "null values (%)              49.0421       49.0421  "
      ]
     },
     "execution_count": 13,
     "metadata": {},
     "output_type": "execute_result"
    }
   ],
   "source": [
    "tab_info"
   ]
  },
  {
   "cell_type": "markdown",
   "metadata": {},
   "source": [
    "**DESCRIPTION OF THE TYPES OF VARIABLES:**"
   ]
  },
  {
   "cell_type": "markdown",
   "metadata": {},
   "source": [
    "**CATEGORICAL VARIABLES:**\n",
    "\n",
    "AIRLINE, FLIGHT_NUMBER, TAIL_NUMBER, ORIGIN_AIRPORT, DESTINATION_AIRPORT, DIVERTED, CANCELLED, CANCELLATION_REASON, AIR_SYSTEM_DELAY, SECURITY_DELAY, AIRLINE_DELAY, LATE_AIRCRAFT_DELAY, WEATHER_DELAY.\n",
    "\n",
    "\n",
    "**DISCRETE NUMERICAL VARIABLES:**\n",
    "\n",
    "YEAR, MONTH, DAY, DAY_OF_WEEK, SCHEDULED_DEPARTURE, DEPARTURE_TIME, DISTANCE, SCHEDULED_ARRIVAL.\n",
    "\n",
    "\n",
    "**CONTINUOUS NUMERICAL VARIABLES:**\n",
    "\n",
    "TAXI_OUT, WHEELS_OFF, SCHEDULED_TIME, ELAPSED_TIME, AIR_TIME, WHEELS_ON, TAXI_IN, ARRIVAL_TIME, ARRIVAL_DELAY, DEPARTURE_DELAY."
   ]
  },
  {
   "cell_type": "markdown",
   "metadata": {},
   "source": [
    "Filtering only those columns that have null values an sorting them by proportion of null values:"
   ]
  },
  {
   "cell_type": "code",
   "execution_count": 14,
   "metadata": {
    "ExecuteTime": {
     "end_time": "2019-09-16T17:15:54.141149Z",
     "start_time": "2019-09-16T17:15:54.131776Z"
    }
   },
   "outputs": [
    {
     "data": {
      "text/html": [
       "<div>\n",
       "<style scoped>\n",
       "    .dataframe tbody tr th:only-of-type {\n",
       "        vertical-align: middle;\n",
       "    }\n",
       "\n",
       "    .dataframe tbody tr th {\n",
       "        vertical-align: top;\n",
       "    }\n",
       "\n",
       "    .dataframe thead th {\n",
       "        text-align: right;\n",
       "    }\n",
       "</style>\n",
       "<table border=\"1\" class=\"dataframe\">\n",
       "  <thead>\n",
       "    <tr style=\"text-align: right;\">\n",
       "      <th></th>\n",
       "      <th>column type</th>\n",
       "      <th>null values (NV)</th>\n",
       "      <th>null values (%)</th>\n",
       "    </tr>\n",
       "  </thead>\n",
       "  <tbody>\n",
       "    <tr>\n",
       "      <th>CANCELLATION_REASON</th>\n",
       "      <td>object</td>\n",
       "      <td>2086896</td>\n",
       "      <td>100</td>\n",
       "    </tr>\n",
       "    <tr>\n",
       "      <th>AIR_SYSTEM_DELAY</th>\n",
       "      <td>float64</td>\n",
       "      <td>1023457</td>\n",
       "      <td>49.0421</td>\n",
       "    </tr>\n",
       "    <tr>\n",
       "      <th>SECURITY_DELAY</th>\n",
       "      <td>float64</td>\n",
       "      <td>1023457</td>\n",
       "      <td>49.0421</td>\n",
       "    </tr>\n",
       "    <tr>\n",
       "      <th>AIRLINE_DELAY</th>\n",
       "      <td>float64</td>\n",
       "      <td>1023457</td>\n",
       "      <td>49.0421</td>\n",
       "    </tr>\n",
       "    <tr>\n",
       "      <th>LATE_AIRCRAFT_DELAY</th>\n",
       "      <td>float64</td>\n",
       "      <td>1023457</td>\n",
       "      <td>49.0421</td>\n",
       "    </tr>\n",
       "    <tr>\n",
       "      <th>WEATHER_DELAY</th>\n",
       "      <td>float64</td>\n",
       "      <td>1023457</td>\n",
       "      <td>49.0421</td>\n",
       "    </tr>\n",
       "  </tbody>\n",
       "</table>\n",
       "</div>"
      ],
      "text/plain": [
       "                    column type null values (NV) null values (%)\n",
       "CANCELLATION_REASON      object          2086896             100\n",
       "AIR_SYSTEM_DELAY        float64          1023457         49.0421\n",
       "SECURITY_DELAY          float64          1023457         49.0421\n",
       "AIRLINE_DELAY           float64          1023457         49.0421\n",
       "LATE_AIRCRAFT_DELAY     float64          1023457         49.0421\n",
       "WEATHER_DELAY           float64          1023457         49.0421"
      ]
     },
     "execution_count": 14,
     "metadata": {},
     "output_type": "execute_result"
    }
   ],
   "source": [
    "tab_info.T.loc[tab_info.T['null values (%)'] != 0].sort_values(by='null values (%)', ascending=False)"
   ]
  },
  {
   "cell_type": "markdown",
   "metadata": {},
   "source": [
    "### Distribution plotting"
   ]
  },
  {
   "cell_type": "markdown",
   "metadata": {},
   "source": [
    "The distribution for both arrival and departure delay times is plotted, using both a distribution plot and a boxplot"
   ]
  },
  {
   "cell_type": "code",
   "execution_count": 15,
   "metadata": {
    "ExecuteTime": {
     "end_time": "2019-09-16T17:15:56.527445Z",
     "start_time": "2019-09-16T17:15:55.674362Z"
    }
   },
   "outputs": [
    {
     "data": {
      "image/png": "[encoded data removed]",
      "text/plain": [
       "<Figure size 1440x720 with 4 Axes>"
      ]
     },
     "metadata": {
      "needs_background": "light"
     },
     "output_type": "display_data"
    }
   ],
   "source": [
    "fig, [[ax1, ax2], [ax3, ax4]] = plt.subplots(2, 2, figsize=(20,10))\n",
    "fig.suptitle('Distribution for DEPARTURE and ARRIVAL delays', fontsize=30, fontweight=300)\n",
    "\n",
    "plt.sca(ax1)\n",
    "#  Dataset and tags:\n",
    "x1 = delayed.DEPARTURE_DELAY.dropna().loc[delayed.DEPARTURE_DELAY >=120]\n",
    "ax1.set_title('Departure Delay Dist Plot', loc='right', fontsize=15, fontweight=300)\n",
    "# Create plot:\n",
    "sns.distplot(x1, bins=100)\n",
    "\n",
    "\n",
    "plt.sca(ax2)\n",
    "#  Dataset and tags:\n",
    "x2 = delayed.DEPARTURE_DELAY.dropna().loc[delayed.DEPARTURE_DELAY >=120]\n",
    "ax2.set_title('Departure Delay Box Plot', loc='right', fontsize=15, fontweight=300)\n",
    "# Create plot:\n",
    "sns.boxplot(x2)\n",
    "\n",
    "\n",
    "plt.sca(ax3)\n",
    "#  Dataset and tags:\n",
    "x3 = delayed.ARRIVAL_DELAY.dropna().loc[delayed.ARRIVAL_DELAY >=120]\n",
    "ax3.set_title('Arrival Delay Dist Plot', loc='right', fontsize=15, fontweight=300)\n",
    "# Create plot:\n",
    "sns.distplot(x3)\n",
    "\n",
    "\n",
    "plt.sca(ax4)\n",
    "#  Dataset and tags:\n",
    "x4 = delayed.ARRIVAL_DELAY.dropna().loc[delayed.ARRIVAL_DELAY >=120]\n",
    "ax4.set_title('Arrival Delay Box Plot', loc='right', fontsize=15, fontweight=300)\n",
    "# Create plot:\n",
    "sns.boxplot(x4)\n",
    "\n",
    "plt.show()"
   ]
  },
  {
   "cell_type": "markdown",
   "metadata": {},
   "source": [
    "As observed, there are a lot of upper outliers. Most of the observations are concentrated on the lower part of the distribution (i.e. most of the delays are short), with high variability for delays longer than 250 min (approx 4h)."
   ]
  },
  {
   "cell_type": "markdown",
   "metadata": {},
   "source": [
    "### Correlations"
   ]
  },
  {
   "cell_type": "markdown",
   "metadata": {},
   "source": [
    "I plot a heatmap to spot the different correlations:"
   ]
  },
  {
   "cell_type": "code",
   "execution_count": 16,
   "metadata": {
    "ExecuteTime": {
     "end_time": "2019-09-16T17:16:02.643487Z",
     "start_time": "2019-09-16T17:15:58.080863Z"
    }
   },
   "outputs": [
    {
     "data": {
      "text/plain": [
       "<matplotlib.axes._subplots.AxesSubplot at 0x7f9cd3739b70>"
      ]
     },
     "execution_count": 16,
     "metadata": {},
     "output_type": "execute_result"
    },
    {
     "data": {
      "image/png": "[encoded data removed]",
      "text/plain": [
       "<Figure size 792x648 with 2 Axes>"
      ]
     },
     "metadata": {
      "needs_background": "light"
     },
     "output_type": "display_data"
    }
   ],
   "source": [
    "cormat = delayed.corr()\n",
    "\n",
    "# Setting the mask for the upper half:\n",
    "mask = np.zeros_like(cormat, dtype=np.bool)\n",
    "mask[np.triu_indices_from(mask)] = True\n",
    "\n",
    "# Setting up the figure:\n",
    "f, ax = plt.subplots(figsize=(11, 9))\n",
    "\n",
    "# Creating colormap:\n",
    "cmap = sns.diverging_palette(200, 10, as_cmap=True)\n",
    "\n",
    "# Plotting the heatmap:\n",
    "sns.heatmap(cormat, cmap=cmap, square=True, mask=mask)"
   ]
  },
  {
   "cell_type": "markdown",
   "metadata": {},
   "source": [
    "#### Interpretation"
   ]
  },
  {
   "cell_type": "markdown",
   "metadata": {},
   "source": [
    "**STRONG POSITIVE CORRELATIONS:** Elapsed time and distance, scheduled time and distance, and elapsed time and scheduled time.\n",
    "\n",
    "**SOMEWHAT POSITIVE CORRELATIONS:** Departure and arrival delay and airline and late aircraft delay (which are to of the recorded delay reasons.\n",
    "\n",
    "**SOMEWHAT NEGATIVE CORRELATIONS:** Scheduled time, elapsed time and distance with flight number. These correlations seem to be spurious."
   ]
  },
  {
   "cell_type": "markdown",
   "metadata": {},
   "source": [
    "## Data Cleaning"
   ]
  },
  {
   "cell_type": "markdown",
   "metadata": {},
   "source": [
    "### Dropping unnecesary columns"
   ]
  },
  {
   "cell_type": "markdown",
   "metadata": {},
   "source": [
    "As there are many entries where I don't have the delay reasons, and to lighten the weight of the dataset, I will drop those entries. Also, I will drop the 'CANCELLATION_REASON' column, as it is empty."
   ]
  },
  {
   "cell_type": "markdown",
   "metadata": {},
   "source": [
    "There are many columns that I won't be using for analysis, so I also drop them:\n",
    "\n",
    "'TAXI_OUT', 'WHEELS_OFF', 'AIR_TIME', 'WHEELS_ON', 'TAXI_IN': Are subdivisions of 'ELAPSED_TIME' that I won't be using.\n",
    "\n",
    "'CANCELLED' does not apply in this specific subset.\n",
    "\n",
    "'DIVERTED' is composed only of 0"
   ]
  },
  {
   "cell_type": "code",
   "execution_count": 17,
   "metadata": {
    "ExecuteTime": {
     "end_time": "2019-09-16T17:16:27.198456Z",
     "start_time": "2019-09-16T17:16:26.880108Z"
    }
   },
   "outputs": [],
   "source": [
    "delayed = delayed.loc[(delayed.AIR_SYSTEM_DELAY.notna()) | \n",
    "                      (delayed.SECURITY_DELAY.notna()) |\n",
    "                      (delayed.AIRLINE_DELAY.notna()) |\n",
    "                      (delayed.LATE_AIRCRAFT_DELAY.notna()) |\n",
    "                      (delayed.WEATHER_DELAY.notna())].drop(['CANCELLED', 'CANCELLATION_REASON',\n",
    "                                                             'DIVERTED',\n",
    "                                                             'TAXI_OUT', 'WHEELS_OFF', 'AIR_TIME', \n",
    "                                                             'WHEELS_ON', 'TAXI_IN'], axis=1)"
   ]
  },
  {
   "cell_type": "code",
   "execution_count": 18,
   "metadata": {
    "ExecuteTime": {
     "end_time": "2019-09-16T17:16:28.793952Z",
     "start_time": "2019-09-16T17:16:28.790336Z"
    }
   },
   "outputs": [
    {
     "name": "stdout",
     "output_type": "stream",
     "text": [
      "Dataframe dimensions are now: 1063439 rows x 23 columns\n"
     ]
    }
   ],
   "source": [
    "print('Dataframe dimensions are now: {} rows x {} columns'.format(delayed.shape[0], delayed.shape[1]))"
   ]
  },
  {
   "cell_type": "markdown",
   "metadata": {},
   "source": [
    "### Dealing with outliers (arrival delays)"
   ]
  },
  {
   "cell_type": "markdown",
   "metadata": {},
   "source": [
    "Although I don't agree that dropping the outliers in this particular setting would be really beneficial in terms of a better performance of a theoretical future model based on this data (I want to discuss this with the TAs when correction time comes, as my starting point is to analyse the long delays, which are actually the ones among the outliers), I clean the outliers for practising purposes."
   ]
  },
  {
   "cell_type": "code",
   "execution_count": 19,
   "metadata": {
    "ExecuteTime": {
     "end_time": "2019-09-16T17:16:33.119656Z",
     "start_time": "2019-09-16T17:16:33.101506Z"
    }
   },
   "outputs": [],
   "source": [
    "q75, q25 = np.percentile(delayed.ARRIVAL_DELAY.dropna().loc[delayed.ARRIVAL_DELAY >=120], [75, 25])\n",
    "iqr = q75 - q25\n",
    "low = q25 - (iqr*1.5)\n",
    "high = q75 + (iqr*1.5)"
   ]
  },
  {
   "cell_type": "markdown",
   "metadata": {},
   "source": [
    "Subsetting to select only those between the range:"
   ]
  },
  {
   "cell_type": "code",
   "execution_count": 20,
   "metadata": {
    "ExecuteTime": {
     "end_time": "2019-09-16T17:16:39.569257Z",
     "start_time": "2019-09-16T17:16:39.438849Z"
    }
   },
   "outputs": [],
   "source": [
    "delayed = delayed.loc[(delayed.ARRIVAL_DELAY > low) & (delayed.ARRIVAL_DELAY < high)]"
   ]
  },
  {
   "cell_type": "markdown",
   "metadata": {},
   "source": [
    "Plotting the distribution after outlier removal:"
   ]
  },
  {
   "cell_type": "code",
   "execution_count": 21,
   "metadata": {
    "ExecuteTime": {
     "end_time": "2019-09-16T17:16:42.002936Z",
     "start_time": "2019-09-16T17:16:41.155253Z"
    }
   },
   "outputs": [
    {
     "data": {
      "image/png": "[encoded data removed]",
      "text/plain": [
       "<Figure size 1440x720 with 4 Axes>"
      ]
     },
     "metadata": {
      "needs_background": "light"
     },
     "output_type": "display_data"
    }
   ],
   "source": [
    "fig, [[ax1, ax2], [ax3, ax4]] = plt.subplots(2, 2, figsize=(20,10))\n",
    "fig.suptitle('Distribution for DEPARTURE and ARRIVAL delays', fontsize=30, fontweight=300)\n",
    "\n",
    "plt.sca(ax1)\n",
    "#  Dataset and tags:\n",
    "x1 = delayed.DEPARTURE_DELAY.dropna().loc[delayed.DEPARTURE_DELAY >=120]\n",
    "ax1.set_title('Departure Delay Dist Plot', loc='right', fontsize=15, fontweight=300)\n",
    "# Create plot:\n",
    "sns.distplot(x1, bins=100)\n",
    "\n",
    "\n",
    "plt.sca(ax2)\n",
    "#  Dataset and tags:\n",
    "x2 = delayed.DEPARTURE_DELAY.dropna().loc[delayed.DEPARTURE_DELAY >=120]\n",
    "ax2.set_title('Departure Delay Box Plot', loc='right', fontsize=15, fontweight=300)\n",
    "# Create plot:\n",
    "sns.boxplot(x2)\n",
    "\n",
    "\n",
    "plt.sca(ax3)\n",
    "#  Dataset and tags:\n",
    "x3 = delayed.ARRIVAL_DELAY.dropna().loc[delayed.ARRIVAL_DELAY >=120]\n",
    "ax3.set_title('Arrival Delay Dist Plot', loc='right', fontsize=15, fontweight=300)\n",
    "# Create plot:\n",
    "sns.distplot(x3)\n",
    "\n",
    "\n",
    "plt.sca(ax4)\n",
    "#  Dataset and tags:\n",
    "x4 = delayed.ARRIVAL_DELAY.dropna().loc[delayed.ARRIVAL_DELAY >=120]\n",
    "ax4.set_title('Arrival Delay Box Plot', loc='right', fontsize=15, fontweight=300)\n",
    "# Create plot:\n",
    "sns.boxplot(x4)\n",
    "\n",
    "plt.show()"
   ]
  },
  {
   "cell_type": "markdown",
   "metadata": {},
   "source": [
    "We can see a normal-like distribution, skewed to the right with way less outliers than before."
   ]
  },
  {
   "cell_type": "code",
   "execution_count": 22,
   "metadata": {
    "ExecuteTime": {
     "end_time": "2019-09-16T17:16:47.698397Z",
     "start_time": "2019-09-16T17:16:47.693988Z"
    }
   },
   "outputs": [
    {
     "name": "stdout",
     "output_type": "stream",
     "text": [
      "Dataframe dimensions are now: 878371 rows x 23 columns\n"
     ]
    }
   ],
   "source": [
    "print('Dataframe dimensions are now: {} rows x {} columns'.format(delayed.shape[0], delayed.shape[1]))"
   ]
  },
  {
   "cell_type": "markdown",
   "metadata": {},
   "source": [
    "## Data Manipulation "
   ]
  },
  {
   "cell_type": "markdown",
   "metadata": {},
   "source": [
    "### Dates and Times"
   ]
  },
  {
   "cell_type": "code",
   "execution_count": 23,
   "metadata": {
    "ExecuteTime": {
     "end_time": "2019-09-16T17:16:53.825075Z",
     "start_time": "2019-09-16T17:16:53.802564Z"
    }
   },
   "outputs": [
    {
     "data": {
      "text/html": [
       "<div>\n",
       "<style scoped>\n",
       "    .dataframe tbody tr th:only-of-type {\n",
       "        vertical-align: middle;\n",
       "    }\n",
       "\n",
       "    .dataframe tbody tr th {\n",
       "        vertical-align: top;\n",
       "    }\n",
       "\n",
       "    .dataframe thead th {\n",
       "        text-align: right;\n",
       "    }\n",
       "</style>\n",
       "<table border=\"1\" class=\"dataframe\">\n",
       "  <thead>\n",
       "    <tr style=\"text-align: right;\">\n",
       "      <th></th>\n",
       "      <th>YEAR</th>\n",
       "      <th>MONTH</th>\n",
       "      <th>DAY</th>\n",
       "      <th>DAY_OF_WEEK</th>\n",
       "      <th>AIRLINE</th>\n",
       "      <th>FLIGHT_NUMBER</th>\n",
       "      <th>TAIL_NUMBER</th>\n",
       "      <th>ORIGIN_AIRPORT</th>\n",
       "      <th>DESTINATION_AIRPORT</th>\n",
       "      <th>SCHEDULED_DEPARTURE</th>\n",
       "      <th>DEPARTURE_TIME</th>\n",
       "      <th>DEPARTURE_DELAY</th>\n",
       "      <th>SCHEDULED_TIME</th>\n",
       "      <th>ELAPSED_TIME</th>\n",
       "      <th>DISTANCE</th>\n",
       "      <th>SCHEDULED_ARRIVAL</th>\n",
       "      <th>ARRIVAL_TIME</th>\n",
       "      <th>ARRIVAL_DELAY</th>\n",
       "      <th>AIR_SYSTEM_DELAY</th>\n",
       "      <th>SECURITY_DELAY</th>\n",
       "      <th>AIRLINE_DELAY</th>\n",
       "      <th>LATE_AIRCRAFT_DELAY</th>\n",
       "      <th>WEATHER_DELAY</th>\n",
       "    </tr>\n",
       "  </thead>\n",
       "  <tbody>\n",
       "    <tr>\n",
       "      <th>27</th>\n",
       "      <td>2015</td>\n",
       "      <td>1</td>\n",
       "      <td>1</td>\n",
       "      <td>4</td>\n",
       "      <td>NK</td>\n",
       "      <td>597</td>\n",
       "      <td>N528NK</td>\n",
       "      <td>MSP</td>\n",
       "      <td>FLL</td>\n",
       "      <td>115</td>\n",
       "      <td>127.0</td>\n",
       "      <td>12.0</td>\n",
       "      <td>207.0</td>\n",
       "      <td>220.0</td>\n",
       "      <td>1487</td>\n",
       "      <td>542</td>\n",
       "      <td>607.0</td>\n",
       "      <td>25.0</td>\n",
       "      <td>25.0</td>\n",
       "      <td>0.0</td>\n",
       "      <td>0.0</td>\n",
       "      <td>0.0</td>\n",
       "      <td>0.0</td>\n",
       "    </tr>\n",
       "    <tr>\n",
       "      <th>30</th>\n",
       "      <td>2015</td>\n",
       "      <td>1</td>\n",
       "      <td>1</td>\n",
       "      <td>4</td>\n",
       "      <td>NK</td>\n",
       "      <td>168</td>\n",
       "      <td>N629NK</td>\n",
       "      <td>PHX</td>\n",
       "      <td>ORD</td>\n",
       "      <td>125</td>\n",
       "      <td>237.0</td>\n",
       "      <td>72.0</td>\n",
       "      <td>204.0</td>\n",
       "      <td>175.0</td>\n",
       "      <td>1440</td>\n",
       "      <td>549</td>\n",
       "      <td>632.0</td>\n",
       "      <td>43.0</td>\n",
       "      <td>43.0</td>\n",
       "      <td>0.0</td>\n",
       "      <td>0.0</td>\n",
       "      <td>0.0</td>\n",
       "      <td>0.0</td>\n",
       "    </tr>\n",
       "  </tbody>\n",
       "</table>\n",
       "</div>"
      ],
      "text/plain": [
       "    YEAR  MONTH  DAY  DAY_OF_WEEK AIRLINE  FLIGHT_NUMBER TAIL_NUMBER  \\\n",
       "27  2015      1    1            4      NK            597      N528NK   \n",
       "30  2015      1    1            4      NK            168      N629NK   \n",
       "\n",
       "   ORIGIN_AIRPORT DESTINATION_AIRPORT  SCHEDULED_DEPARTURE  DEPARTURE_TIME  \\\n",
       "27            MSP                 FLL                  115           127.0   \n",
       "30            PHX                 ORD                  125           237.0   \n",
       "\n",
       "    DEPARTURE_DELAY  SCHEDULED_TIME  ELAPSED_TIME  DISTANCE  \\\n",
       "27             12.0           207.0         220.0      1487   \n",
       "30             72.0           204.0         175.0      1440   \n",
       "\n",
       "    SCHEDULED_ARRIVAL  ARRIVAL_TIME  ARRIVAL_DELAY  AIR_SYSTEM_DELAY  \\\n",
       "27                542         607.0           25.0              25.0   \n",
       "30                549         632.0           43.0              43.0   \n",
       "\n",
       "    SECURITY_DELAY  AIRLINE_DELAY  LATE_AIRCRAFT_DELAY  WEATHER_DELAY  \n",
       "27             0.0            0.0                  0.0            0.0  \n",
       "30             0.0            0.0                  0.0            0.0  "
      ]
     },
     "execution_count": 23,
     "metadata": {},
     "output_type": "execute_result"
    }
   ],
   "source": [
    "delayed.head(2)"
   ]
  },
  {
   "cell_type": "markdown",
   "metadata": {},
   "source": [
    "The formatting of dates and times in the dataset are a mess, so I try to concentrate the date into a single DateTime column and give 'SCHEDULED_ARRIVAL', 'ARRIVAL_TIME', 'SCHEDULED_DEPARTURE' and 'DEPARTURE_TIME' the same format and converting them to DateTime type."
   ]
  },
  {
   "cell_type": "code",
   "execution_count": 24,
   "metadata": {
    "ExecuteTime": {
     "end_time": "2019-09-16T17:16:55.868109Z",
     "start_time": "2019-09-16T17:16:55.482907Z"
    }
   },
   "outputs": [],
   "source": [
    "delayed['DATE'] = pd.to_datetime(delayed[['YEAR', 'MONTH', 'DAY']], infer_datetime_format=True)"
   ]
  },
  {
   "cell_type": "code",
   "execution_count": 25,
   "metadata": {
    "ExecuteTime": {
     "end_time": "2019-09-16T17:16:57.489728Z",
     "start_time": "2019-09-16T17:16:57.410494Z"
    }
   },
   "outputs": [],
   "source": [
    "delayed = delayed.drop(['YEAR', 'MONTH', 'DAY'], axis=1)"
   ]
  },
  {
   "cell_type": "code",
   "execution_count": 26,
   "metadata": {
    "ExecuteTime": {
     "end_time": "2019-09-16T17:17:03.069779Z",
     "start_time": "2019-09-16T17:16:59.040058Z"
    }
   },
   "outputs": [],
   "source": [
    "# Defining the formatting function:\n",
    "def hour_format(hour):\n",
    "    if hour == 2400:\n",
    "        hour = 0\n",
    "    hour = float(hour)\n",
    "    hour = \"{0:04d}\".format(int(hour)) # Giving all the entries the same format (4 digits)\n",
    "    hour = datetime.time(int(hour[:2]), int(hour[2:])) # First two digits are the hour and second two the minutes\n",
    "    return hour\n",
    "\n",
    "# Changing column values for the new formatted ones:\n",
    "for i in ['SCHEDULED_DEPARTURE', 'DEPARTURE_TIME', 'SCHEDULED_ARRIVAL', 'ARRIVAL_TIME']:\n",
    "    delayed[i] = delayed[i].apply(hour_format)"
   ]
  },
  {
   "cell_type": "markdown",
   "metadata": {},
   "source": [
    "### Reordering columns"
   ]
  },
  {
   "cell_type": "code",
   "execution_count": 27,
   "metadata": {
    "ExecuteTime": {
     "end_time": "2019-09-16T17:17:05.021242Z",
     "start_time": "2019-09-16T17:17:04.747703Z"
    }
   },
   "outputs": [],
   "source": [
    "cols = ['DATE', 'DAY_OF_WEEK', 'AIRLINE', 'FLIGHT_NUMBER', 'TAIL_NUMBER',\n",
    "       'ORIGIN_AIRPORT', 'DESTINATION_AIRPORT', 'SCHEDULED_DEPARTURE',\n",
    "       'DEPARTURE_TIME', 'DEPARTURE_DELAY', 'SCHEDULED_TIME', 'ELAPSED_TIME',\n",
    "       'DISTANCE', 'SCHEDULED_ARRIVAL', 'ARRIVAL_TIME', 'ARRIVAL_DELAY',\n",
    "       'AIR_SYSTEM_DELAY', 'SECURITY_DELAY', 'AIRLINE_DELAY',\n",
    "       'LATE_AIRCRAFT_DELAY', 'WEATHER_DELAY']\n",
    "delayed = delayed[cols]"
   ]
  },
  {
   "cell_type": "code",
   "execution_count": 28,
   "metadata": {
    "ExecuteTime": {
     "end_time": "2019-09-16T17:17:06.819350Z",
     "start_time": "2019-09-16T17:17:06.815400Z"
    }
   },
   "outputs": [
    {
     "name": "stdout",
     "output_type": "stream",
     "text": [
      "Dataframe dimensions are now: 878371 rows x 21 columns\n"
     ]
    }
   ],
   "source": [
    "print('Dataframe dimensions are now: {} rows x {} columns'.format(delayed.shape[0], delayed.shape[1]))"
   ]
  },
  {
   "cell_type": "markdown",
   "metadata": {},
   "source": [
    "As the resulting dataframe still contains too many rows, and bearing in mind that this notebook is for demonstration purposes, a filter using the TOP 30 airports by volume of passenger in the US will be set:"
   ]
  },
  {
   "cell_type": "code",
   "execution_count": 29,
   "metadata": {
    "ExecuteTime": {
     "end_time": "2019-09-16T17:17:09.754676Z",
     "start_time": "2019-09-16T17:17:09.749253Z"
    }
   },
   "outputs": [],
   "source": [
    "top30 = ['ATL', 'LAX', 'ORD', 'DFW', 'DEN', 'JFK', 'SFO', 'SEA', 'LAS', 'MCO',\n",
    "         'EWR', 'CLT', 'PHX', 'IAH', 'MIA', 'BOS', 'MSP', 'FLL', 'DTW', 'PHL',\n",
    "         'LGW', 'BWI', 'SLC', 'SAN', 'IAD', 'DCA', 'MDW', 'TPA', 'PDX', 'HNL']"
   ]
  },
  {
   "cell_type": "code",
   "execution_count": 30,
   "metadata": {
    "ExecuteTime": {
     "end_time": "2019-09-16T17:17:11.684936Z",
     "start_time": "2019-09-16T17:17:11.478998Z"
    }
   },
   "outputs": [],
   "source": [
    "delayed = delayed.loc[(delayed.ORIGIN_AIRPORT.isin(top30)) & (delayed.DESTINATION_AIRPORT.isin(top30))]"
   ]
  },
  {
   "cell_type": "code",
   "execution_count": 31,
   "metadata": {
    "ExecuteTime": {
     "end_time": "2019-09-16T17:17:13.294208Z",
     "start_time": "2019-09-16T17:17:13.291447Z"
    }
   },
   "outputs": [
    {
     "name": "stdout",
     "output_type": "stream",
     "text": [
      "Dataframe dimensions are now: 324562 rows x 21 columns\n"
     ]
    }
   ],
   "source": [
    "print('Dataframe dimensions are now: {} rows x {} columns'.format(delayed.shape[0], delayed.shape[1]))"
   ]
  },
  {
   "cell_type": "markdown",
   "metadata": {},
   "source": [
    "## Confidence Intervals"
   ]
  },
  {
   "cell_type": "markdown",
   "metadata": {},
   "source": [
    "### Statistics about departure and arrival delays by **AIRLINE**"
   ]
  },
  {
   "cell_type": "markdown",
   "metadata": {},
   "source": [
    "Defining a function to get the IQR for every group:"
   ]
  },
  {
   "cell_type": "code",
   "execution_count": 32,
   "metadata": {
    "ExecuteTime": {
     "end_time": "2019-09-16T17:17:19.075231Z",
     "start_time": "2019-09-16T17:17:19.069292Z"
    }
   },
   "outputs": [],
   "source": [
    "def iqr(array):\n",
    "    return array.quantile(.75) - array.quantile(.25)\n",
    "\n",
    "def quant25(array):\n",
    "    return array.quantile(.25)\n",
    "\n",
    "def median(array):\n",
    "    return array.quantile(.5)\n",
    "\n",
    "def quant75(array):\n",
    "    return array.quantile(.75)"
   ]
  },
  {
   "cell_type": "code",
   "execution_count": 33,
   "metadata": {
    "ExecuteTime": {
     "end_time": "2019-09-16T17:17:20.754525Z",
     "start_time": "2019-09-16T17:17:20.751939Z"
    }
   },
   "outputs": [],
   "source": [
    "functions = [np.mean, np.std, np.min, np.max, quant75, median, quant25, iqr]"
   ]
  },
  {
   "cell_type": "markdown",
   "metadata": {},
   "source": [
    "Grouping:"
   ]
  },
  {
   "cell_type": "code",
   "execution_count": 34,
   "metadata": {
    "ExecuteTime": {
     "end_time": "2019-09-16T17:17:22.670133Z",
     "start_time": "2019-09-16T17:17:22.451655Z"
    }
   },
   "outputs": [],
   "source": [
    "airlines = delayed[['AIRLINE', \n",
    "                    'DEPARTURE_DELAY', \n",
    "                    'ARRIVAL_DELAY']].groupby('AIRLINE', as_index=False).agg(functions)"
   ]
  },
  {
   "cell_type": "code",
   "execution_count": 35,
   "metadata": {
    "ExecuteTime": {
     "end_time": "2019-09-16T17:17:24.286833Z",
     "start_time": "2019-09-16T17:17:24.269227Z"
    }
   },
   "outputs": [
    {
     "data": {
      "text/html": [
       "<div>\n",
       "<style scoped>\n",
       "    .dataframe tbody tr th:only-of-type {\n",
       "        vertical-align: middle;\n",
       "    }\n",
       "\n",
       "    .dataframe tbody tr th {\n",
       "        vertical-align: top;\n",
       "    }\n",
       "\n",
       "    .dataframe thead tr th {\n",
       "        text-align: left;\n",
       "    }\n",
       "\n",
       "    .dataframe thead tr:last-of-type th {\n",
       "        text-align: right;\n",
       "    }\n",
       "</style>\n",
       "<table border=\"1\" class=\"dataframe\">\n",
       "  <thead>\n",
       "    <tr>\n",
       "      <th></th>\n",
       "      <th colspan=\"8\" halign=\"left\">DEPARTURE_DELAY</th>\n",
       "      <th colspan=\"8\" halign=\"left\">ARRIVAL_DELAY</th>\n",
       "    </tr>\n",
       "    <tr>\n",
       "      <th></th>\n",
       "      <th>mean</th>\n",
       "      <th>std</th>\n",
       "      <th>amin</th>\n",
       "      <th>amax</th>\n",
       "      <th>quant75</th>\n",
       "      <th>median</th>\n",
       "      <th>quant25</th>\n",
       "      <th>iqr</th>\n",
       "      <th>mean</th>\n",
       "      <th>std</th>\n",
       "      <th>amin</th>\n",
       "      <th>amax</th>\n",
       "      <th>quant75</th>\n",
       "      <th>median</th>\n",
       "      <th>quant25</th>\n",
       "      <th>iqr</th>\n",
       "    </tr>\n",
       "    <tr>\n",
       "      <th>AIRLINE</th>\n",
       "      <th></th>\n",
       "      <th></th>\n",
       "      <th></th>\n",
       "      <th></th>\n",
       "      <th></th>\n",
       "      <th></th>\n",
       "      <th></th>\n",
       "      <th></th>\n",
       "      <th></th>\n",
       "      <th></th>\n",
       "      <th></th>\n",
       "      <th></th>\n",
       "      <th></th>\n",
       "      <th></th>\n",
       "      <th></th>\n",
       "      <th></th>\n",
       "    </tr>\n",
       "  </thead>\n",
       "  <tbody>\n",
       "    <tr>\n",
       "      <th>AA</th>\n",
       "      <td>56.661319</td>\n",
       "      <td>55.751065</td>\n",
       "      <td>-24.0</td>\n",
       "      <td>369.0</td>\n",
       "      <td>77.00</td>\n",
       "      <td>43.0</td>\n",
       "      <td>19.0</td>\n",
       "      <td>58.00</td>\n",
       "      <td>62.404476</td>\n",
       "      <td>50.661942</td>\n",
       "      <td>20.0</td>\n",
       "      <td>335.0</td>\n",
       "      <td>77.0</td>\n",
       "      <td>44.0</td>\n",
       "      <td>29.0</td>\n",
       "      <td>48.0</td>\n",
       "    </tr>\n",
       "    <tr>\n",
       "      <th>AS</th>\n",
       "      <td>48.548184</td>\n",
       "      <td>50.474044</td>\n",
       "      <td>-19.0</td>\n",
       "      <td>369.0</td>\n",
       "      <td>65.00</td>\n",
       "      <td>37.0</td>\n",
       "      <td>16.0</td>\n",
       "      <td>49.00</td>\n",
       "      <td>55.772745</td>\n",
       "      <td>44.878467</td>\n",
       "      <td>20.0</td>\n",
       "      <td>335.0</td>\n",
       "      <td>66.0</td>\n",
       "      <td>40.0</td>\n",
       "      <td>27.0</td>\n",
       "      <td>39.0</td>\n",
       "    </tr>\n",
       "    <tr>\n",
       "      <th>B6</th>\n",
       "      <td>61.825801</td>\n",
       "      <td>58.675436</td>\n",
       "      <td>-17.0</td>\n",
       "      <td>394.0</td>\n",
       "      <td>84.00</td>\n",
       "      <td>46.0</td>\n",
       "      <td>22.0</td>\n",
       "      <td>62.00</td>\n",
       "      <td>67.679425</td>\n",
       "      <td>54.020824</td>\n",
       "      <td>20.0</td>\n",
       "      <td>335.0</td>\n",
       "      <td>85.0</td>\n",
       "      <td>48.0</td>\n",
       "      <td>30.0</td>\n",
       "      <td>55.0</td>\n",
       "    </tr>\n",
       "    <tr>\n",
       "      <th>DL</th>\n",
       "      <td>58.452052</td>\n",
       "      <td>58.985407</td>\n",
       "      <td>-15.0</td>\n",
       "      <td>364.0</td>\n",
       "      <td>78.00</td>\n",
       "      <td>42.0</td>\n",
       "      <td>20.0</td>\n",
       "      <td>58.00</td>\n",
       "      <td>63.591376</td>\n",
       "      <td>54.109757</td>\n",
       "      <td>20.0</td>\n",
       "      <td>335.0</td>\n",
       "      <td>77.0</td>\n",
       "      <td>43.0</td>\n",
       "      <td>28.0</td>\n",
       "      <td>49.0</td>\n",
       "    </tr>\n",
       "    <tr>\n",
       "      <th>EV</th>\n",
       "      <td>60.447809</td>\n",
       "      <td>58.797970</td>\n",
       "      <td>-13.0</td>\n",
       "      <td>345.0</td>\n",
       "      <td>82.25</td>\n",
       "      <td>45.0</td>\n",
       "      <td>21.0</td>\n",
       "      <td>61.25</td>\n",
       "      <td>67.797809</td>\n",
       "      <td>54.634316</td>\n",
       "      <td>20.0</td>\n",
       "      <td>334.0</td>\n",
       "      <td>85.0</td>\n",
       "      <td>47.0</td>\n",
       "      <td>30.0</td>\n",
       "      <td>55.0</td>\n",
       "    </tr>\n",
       "  </tbody>\n",
       "</table>\n",
       "</div>"
      ],
      "text/plain": [
       "        DEPARTURE_DELAY                                                        \\\n",
       "                   mean        std  amin   amax quant75 median quant25    iqr   \n",
       "AIRLINE                                                                         \n",
       "AA            56.661319  55.751065 -24.0  369.0   77.00   43.0    19.0  58.00   \n",
       "AS            48.548184  50.474044 -19.0  369.0   65.00   37.0    16.0  49.00   \n",
       "B6            61.825801  58.675436 -17.0  394.0   84.00   46.0    22.0  62.00   \n",
       "DL            58.452052  58.985407 -15.0  364.0   78.00   42.0    20.0  58.00   \n",
       "EV            60.447809  58.797970 -13.0  345.0   82.25   45.0    21.0  61.25   \n",
       "\n",
       "        ARRIVAL_DELAY                                                       \n",
       "                 mean        std  amin   amax quant75 median quant25   iqr  \n",
       "AIRLINE                                                                     \n",
       "AA          62.404476  50.661942  20.0  335.0    77.0   44.0    29.0  48.0  \n",
       "AS          55.772745  44.878467  20.0  335.0    66.0   40.0    27.0  39.0  \n",
       "B6          67.679425  54.020824  20.0  335.0    85.0   48.0    30.0  55.0  \n",
       "DL          63.591376  54.109757  20.0  335.0    77.0   43.0    28.0  49.0  \n",
       "EV          67.797809  54.634316  20.0  334.0    85.0   47.0    30.0  55.0  "
      ]
     },
     "execution_count": 35,
     "metadata": {},
     "output_type": "execute_result"
    }
   ],
   "source": [
    "airlines.head()"
   ]
  },
  {
   "cell_type": "markdown",
   "metadata": {},
   "source": [
    "**Filtering the top 5 airlines by mean departure and arrival delay:**"
   ]
  },
  {
   "cell_type": "markdown",
   "metadata": {
    "ExecuteTime": {
     "end_time": "2019-09-13T18:11:28.869090Z",
     "start_time": "2019-09-13T18:11:28.861375Z"
    }
   },
   "source": [
    "Top 5 airlines by **departure** delay:"
   ]
  },
  {
   "cell_type": "code",
   "execution_count": 36,
   "metadata": {
    "ExecuteTime": {
     "end_time": "2019-09-16T17:17:28.557977Z",
     "start_time": "2019-09-16T17:17:28.548471Z"
    }
   },
   "outputs": [
    {
     "data": {
      "text/plain": [
       "AIRLINE\n",
       "UA    68.732780\n",
       "NK    63.258268\n",
       "B6    61.825801\n",
       "EV    60.447809\n",
       "WN    58.654488\n",
       "Name: mean, dtype: float64"
      ]
     },
     "execution_count": 36,
     "metadata": {},
     "output_type": "execute_result"
    }
   ],
   "source": [
    "top5_airlines_dep_del = airlines['DEPARTURE_DELAY']['mean'].sort_values(ascending=False).head(5)\n",
    "top5_airlines_dep_del"
   ]
  },
  {
   "cell_type": "markdown",
   "metadata": {
    "ExecuteTime": {
     "end_time": "2019-09-13T18:11:28.869090Z",
     "start_time": "2019-09-13T18:11:28.861375Z"
    }
   },
   "source": [
    "Top 5 airlines by **arrival** delay:"
   ]
  },
  {
   "cell_type": "code",
   "execution_count": 37,
   "metadata": {
    "ExecuteTime": {
     "end_time": "2019-09-16T17:17:34.479528Z",
     "start_time": "2019-09-16T17:17:34.473296Z"
    }
   },
   "outputs": [
    {
     "data": {
      "text/plain": [
       "AIRLINE\n",
       "MQ    70.181566\n",
       "NK    69.548456\n",
       "UA    68.508364\n",
       "EV    67.797809\n",
       "B6    67.679425\n",
       "Name: mean, dtype: float64"
      ]
     },
     "execution_count": 37,
     "metadata": {},
     "output_type": "execute_result"
    }
   ],
   "source": [
    "top5_airlines_arr_del = airlines['ARRIVAL_DELAY']['mean'].sort_values(ascending=False).head(5)\n",
    "top5_airlines_arr_del"
   ]
  },
  {
   "cell_type": "markdown",
   "metadata": {},
   "source": [
    "#### Confidence intervals"
   ]
  },
  {
   "cell_type": "markdown",
   "metadata": {},
   "source": [
    "I build 95% confidence intervals for the global mean and the mean of the Top5 airlines by arrival and departure delay:"
   ]
  },
  {
   "cell_type": "markdown",
   "metadata": {},
   "source": [
    "**Global:**"
   ]
  },
  {
   "cell_type": "code",
   "execution_count": 38,
   "metadata": {
    "ExecuteTime": {
     "end_time": "2019-09-16T17:18:04.648564Z",
     "start_time": "2019-09-16T17:18:04.631345Z"
    }
   },
   "outputs": [],
   "source": [
    "# Departure delays statistics:\n",
    "global_dep_del_mean = delayed.DEPARTURE_DELAY.mean()\n",
    "global_dep_del_std = np.std(delayed.DEPARTURE_DELAY)\n",
    "\n",
    "# Arrival statistics:\n",
    "global_arr_del_mean = delayed.ARRIVAL_DELAY.mean()\n",
    "global_arr_del_std = np.std(delayed.ARRIVAL_DELAY)\n",
    "\n",
    "# General statistics:\n",
    "t = stats.t.interval(0.95, ((len(delayed))-1))[1]\n",
    "\n",
    "# Construction of both limits of the Departure delays interval:\n",
    "dep_del_low = (global_dep_del_mean - t*(global_dep_del_std/math.sqrt(len(delayed)))).round(2)\n",
    "dep_del_high = (global_dep_del_mean + t*(global_dep_del_std/math.sqrt(len(delayed)))).round(2)\n",
    "\n",
    "# Construction of both limits of the Arrival delays interval:\n",
    "arr_del_low = (global_arr_del_mean - t*(global_arr_del_std/math.sqrt(len(delayed)))).round(2)\n",
    "arr_del_high = (global_arr_del_mean + t*(global_arr_del_std/math.sqrt(len(delayed)))).round(2)"
   ]
  },
  {
   "cell_type": "code",
   "execution_count": 39,
   "metadata": {
    "ExecuteTime": {
     "end_time": "2019-09-16T17:18:06.366867Z",
     "start_time": "2019-09-16T17:18:06.362234Z"
    }
   },
   "outputs": [
    {
     "name": "stdout",
     "output_type": "stream",
     "text": [
      "·Interpretation:\n",
      "The mean departure delay expected amongst all delayed flights is between 59.32 and 59.71 minutes with a 95% confidence.\n",
      "The mean arrival delay expected amongst all delayed flights is between 63.62 and 63.97 minutes with a 95% confidence.\n"
     ]
    }
   ],
   "source": [
    "# Construction and printing of the intervals:\n",
    "ci_dep = (dep_del_low, dep_del_high)\n",
    "ci_arr = (arr_del_low, arr_del_high)\n",
    "\n",
    "print('·Interpretation:') \n",
    "print('The mean departure delay expected amongst all delayed flights is between {} and {} minutes with a 95% confidence.'.format(ci_dep[0], ci_dep[1]))\n",
    "print('The mean arrival delay expected amongst all delayed flights is between {} and {} minutes with a 95% confidence.'.format(ci_arr[0], ci_arr[1]))"
   ]
  },
  {
   "cell_type": "markdown",
   "metadata": {},
   "source": [
    "**TOP5 by Departure Delay:**"
   ]
  },
  {
   "cell_type": "code",
   "execution_count": 40,
   "metadata": {
    "ExecuteTime": {
     "end_time": "2019-09-16T17:18:16.676640Z",
     "start_time": "2019-09-16T17:18:16.581752Z"
    }
   },
   "outputs": [
    {
     "name": "stdout",
     "output_type": "stream",
     "text": [
      "The mean Departure delay expected amongst UA delayed flights is between 68.25 and 69.21 minutes with a 95% confidence.\n",
      "The mean Departure delay expected amongst NK delayed flights is between 62.42 and 64.09 minutes with a 95% confidence.\n",
      "The mean Departure delay expected amongst B6 delayed flights is between 61.03 and 62.63 minutes with a 95% confidence.\n",
      "The mean Departure delay expected amongst EV delayed flights is between 58.82 and 62.07 minutes with a 95% confidence.\n",
      "The mean Departure delay expected amongst WN delayed flights is between 58.22 and 59.09 minutes with a 95% confidence.\n"
     ]
    }
   ],
   "source": [
    "for i in list(top5_airlines_dep_del.index):\n",
    "    # Subsetting\n",
    "    subset = delayed['DEPARTURE_DELAY'].loc[delayed.AIRLINE == i]\n",
    "    \n",
    "    # Statistics\n",
    "    mean = subset.mean()\n",
    "    std = np.std(subset)\n",
    "    t = stats.t.interval(0.95, ((len(subset))-1))[1]\n",
    "    \n",
    "    # Construction\n",
    "    low = (mean - t*(std/math.sqrt(len(subset)))).round(2)\n",
    "    high = (mean + t*(std/math.sqrt(len(subset)))).round(2)\n",
    "    \n",
    "    # Interpretation\n",
    "    print('The mean Departure delay expected amongst {} delayed flights is between {} and {} minutes with a 95% confidence.'.format(i, low, high))"
   ]
  },
  {
   "cell_type": "markdown",
   "metadata": {},
   "source": [
    "**TOP5 by Arrival Delay:**"
   ]
  },
  {
   "cell_type": "code",
   "execution_count": 41,
   "metadata": {
    "ExecuteTime": {
     "end_time": "2019-09-16T17:18:27.142195Z",
     "start_time": "2019-09-16T17:18:27.050884Z"
    }
   },
   "outputs": [
    {
     "name": "stdout",
     "output_type": "stream",
     "text": [
      "The mean Arrival delay expected amongst MQ delayed flights is between 67.82 and 72.55 minutes with a 95% confidence.\n",
      "The mean Arrival delay expected amongst NK delayed flights is between 68.77 and 70.33 minutes with a 95% confidence.\n",
      "The mean Arrival delay expected amongst UA delayed flights is between 68.07 and 68.95 minutes with a 95% confidence.\n",
      "The mean Arrival delay expected amongst EV delayed flights is between 66.29 and 69.31 minutes with a 95% confidence.\n",
      "The mean Arrival delay expected amongst B6 delayed flights is between 66.94 and 68.42 minutes with a 95% confidence.\n"
     ]
    }
   ],
   "source": [
    "for i in list(top5_airlines_arr_del.index):\n",
    "    # Subsetting\n",
    "    subset = delayed['ARRIVAL_DELAY'].loc[delayed.AIRLINE == i]\n",
    "    \n",
    "    # Statistics\n",
    "    mean = subset.mean()\n",
    "    std = np.std(subset)\n",
    "    t = stats.t.interval(0.95, ((len(subset))-1))[1]\n",
    "    \n",
    "    # Construction\n",
    "    low = (mean - t*(std/math.sqrt(len(subset)))).round(2)\n",
    "    high = (mean + t*(std/math.sqrt(len(subset)))).round(2)\n",
    "    \n",
    "    # Interpretation\n",
    "    print('The mean Arrival delay expected amongst {} delayed flights is between {} and {} minutes with a 95% confidence.'.format(i, low, high))"
   ]
  },
  {
   "cell_type": "markdown",
   "metadata": {},
   "source": [
    "### Statistics about departure and arrival delays by **AIRPORT**"
   ]
  },
  {
   "cell_type": "markdown",
   "metadata": {},
   "source": [
    "#### Grouping by origin airport"
   ]
  },
  {
   "cell_type": "code",
   "execution_count": 42,
   "metadata": {
    "ExecuteTime": {
     "end_time": "2019-09-16T17:18:35.002513Z",
     "start_time": "2019-09-16T17:18:34.666275Z"
    }
   },
   "outputs": [],
   "source": [
    "origin_airports = delayed[['ORIGIN_AIRPORT', 'DESTINATION_AIRPORT', \n",
    "                           'DEPARTURE_DELAY', 'ARRIVAL_DELAY']].groupby('ORIGIN_AIRPORT', \n",
    "                                                                        as_index=False).agg(functions)"
   ]
  },
  {
   "cell_type": "code",
   "execution_count": 43,
   "metadata": {
    "ExecuteTime": {
     "end_time": "2019-09-16T17:18:36.725661Z",
     "start_time": "2019-09-16T17:18:36.705433Z"
    }
   },
   "outputs": [
    {
     "data": {
      "text/html": [
       "<div>\n",
       "<style scoped>\n",
       "    .dataframe tbody tr th:only-of-type {\n",
       "        vertical-align: middle;\n",
       "    }\n",
       "\n",
       "    .dataframe tbody tr th {\n",
       "        vertical-align: top;\n",
       "    }\n",
       "\n",
       "    .dataframe thead tr th {\n",
       "        text-align: left;\n",
       "    }\n",
       "\n",
       "    .dataframe thead tr:last-of-type th {\n",
       "        text-align: right;\n",
       "    }\n",
       "</style>\n",
       "<table border=\"1\" class=\"dataframe\">\n",
       "  <thead>\n",
       "    <tr>\n",
       "      <th></th>\n",
       "      <th colspan=\"8\" halign=\"left\">DEPARTURE_DELAY</th>\n",
       "      <th colspan=\"8\" halign=\"left\">ARRIVAL_DELAY</th>\n",
       "    </tr>\n",
       "    <tr>\n",
       "      <th></th>\n",
       "      <th>mean</th>\n",
       "      <th>std</th>\n",
       "      <th>amin</th>\n",
       "      <th>amax</th>\n",
       "      <th>quant75</th>\n",
       "      <th>median</th>\n",
       "      <th>quant25</th>\n",
       "      <th>iqr</th>\n",
       "      <th>mean</th>\n",
       "      <th>std</th>\n",
       "      <th>amin</th>\n",
       "      <th>amax</th>\n",
       "      <th>quant75</th>\n",
       "      <th>median</th>\n",
       "      <th>quant25</th>\n",
       "      <th>iqr</th>\n",
       "    </tr>\n",
       "    <tr>\n",
       "      <th>ORIGIN_AIRPORT</th>\n",
       "      <th></th>\n",
       "      <th></th>\n",
       "      <th></th>\n",
       "      <th></th>\n",
       "      <th></th>\n",
       "      <th></th>\n",
       "      <th></th>\n",
       "      <th></th>\n",
       "      <th></th>\n",
       "      <th></th>\n",
       "      <th></th>\n",
       "      <th></th>\n",
       "      <th></th>\n",
       "      <th></th>\n",
       "      <th></th>\n",
       "      <th></th>\n",
       "    </tr>\n",
       "  </thead>\n",
       "  <tbody>\n",
       "    <tr>\n",
       "      <th>ATL</th>\n",
       "      <td>59.767893</td>\n",
       "      <td>55.465281</td>\n",
       "      <td>-24.0</td>\n",
       "      <td>364.0</td>\n",
       "      <td>78.0</td>\n",
       "      <td>44.0</td>\n",
       "      <td>25.0</td>\n",
       "      <td>53.0</td>\n",
       "      <td>63.009971</td>\n",
       "      <td>51.691317</td>\n",
       "      <td>20.0</td>\n",
       "      <td>335.0</td>\n",
       "      <td>78.0</td>\n",
       "      <td>43.0</td>\n",
       "      <td>28.00</td>\n",
       "      <td>50.00</td>\n",
       "    </tr>\n",
       "    <tr>\n",
       "      <th>BOS</th>\n",
       "      <td>55.262823</td>\n",
       "      <td>56.895532</td>\n",
       "      <td>-18.0</td>\n",
       "      <td>355.0</td>\n",
       "      <td>76.0</td>\n",
       "      <td>41.0</td>\n",
       "      <td>16.0</td>\n",
       "      <td>60.0</td>\n",
       "      <td>63.651767</td>\n",
       "      <td>51.818535</td>\n",
       "      <td>20.0</td>\n",
       "      <td>333.0</td>\n",
       "      <td>78.0</td>\n",
       "      <td>44.0</td>\n",
       "      <td>29.00</td>\n",
       "      <td>49.00</td>\n",
       "    </tr>\n",
       "    <tr>\n",
       "      <th>BWI</th>\n",
       "      <td>60.808169</td>\n",
       "      <td>58.520514</td>\n",
       "      <td>-19.0</td>\n",
       "      <td>345.0</td>\n",
       "      <td>80.0</td>\n",
       "      <td>44.0</td>\n",
       "      <td>24.0</td>\n",
       "      <td>56.0</td>\n",
       "      <td>65.712385</td>\n",
       "      <td>55.004324</td>\n",
       "      <td>20.0</td>\n",
       "      <td>334.0</td>\n",
       "      <td>82.0</td>\n",
       "      <td>44.0</td>\n",
       "      <td>29.00</td>\n",
       "      <td>53.00</td>\n",
       "    </tr>\n",
       "    <tr>\n",
       "      <th>CLT</th>\n",
       "      <td>50.441314</td>\n",
       "      <td>51.559268</td>\n",
       "      <td>-13.0</td>\n",
       "      <td>354.0</td>\n",
       "      <td>69.0</td>\n",
       "      <td>37.0</td>\n",
       "      <td>16.0</td>\n",
       "      <td>53.0</td>\n",
       "      <td>58.759464</td>\n",
       "      <td>47.258389</td>\n",
       "      <td>20.0</td>\n",
       "      <td>334.0</td>\n",
       "      <td>72.0</td>\n",
       "      <td>42.0</td>\n",
       "      <td>28.00</td>\n",
       "      <td>44.00</td>\n",
       "    </tr>\n",
       "    <tr>\n",
       "      <th>DCA</th>\n",
       "      <td>57.647403</td>\n",
       "      <td>60.317297</td>\n",
       "      <td>-14.0</td>\n",
       "      <td>351.0</td>\n",
       "      <td>79.0</td>\n",
       "      <td>41.0</td>\n",
       "      <td>16.0</td>\n",
       "      <td>63.0</td>\n",
       "      <td>67.795294</td>\n",
       "      <td>55.909144</td>\n",
       "      <td>20.0</td>\n",
       "      <td>334.0</td>\n",
       "      <td>86.0</td>\n",
       "      <td>46.0</td>\n",
       "      <td>29.25</td>\n",
       "      <td>56.75</td>\n",
       "    </tr>\n",
       "  </tbody>\n",
       "</table>\n",
       "</div>"
      ],
      "text/plain": [
       "               DEPARTURE_DELAY                                                 \\\n",
       "                          mean        std  amin   amax quant75 median quant25   \n",
       "ORIGIN_AIRPORT                                                                  \n",
       "ATL                  59.767893  55.465281 -24.0  364.0    78.0   44.0    25.0   \n",
       "BOS                  55.262823  56.895532 -18.0  355.0    76.0   41.0    16.0   \n",
       "BWI                  60.808169  58.520514 -19.0  345.0    80.0   44.0    24.0   \n",
       "CLT                  50.441314  51.559268 -13.0  354.0    69.0   37.0    16.0   \n",
       "DCA                  57.647403  60.317297 -14.0  351.0    79.0   41.0    16.0   \n",
       "\n",
       "                     ARRIVAL_DELAY                                         \\\n",
       "                 iqr          mean        std  amin   amax quant75 median   \n",
       "ORIGIN_AIRPORT                                                              \n",
       "ATL             53.0     63.009971  51.691317  20.0  335.0    78.0   43.0   \n",
       "BOS             60.0     63.651767  51.818535  20.0  333.0    78.0   44.0   \n",
       "BWI             56.0     65.712385  55.004324  20.0  334.0    82.0   44.0   \n",
       "CLT             53.0     58.759464  47.258389  20.0  334.0    72.0   42.0   \n",
       "DCA             63.0     67.795294  55.909144  20.0  334.0    86.0   46.0   \n",
       "\n",
       "                               \n",
       "               quant25    iqr  \n",
       "ORIGIN_AIRPORT                 \n",
       "ATL              28.00  50.00  \n",
       "BOS              29.00  49.00  \n",
       "BWI              29.00  53.00  \n",
       "CLT              28.00  44.00  \n",
       "DCA              29.25  56.75  "
      ]
     },
     "execution_count": 43,
     "metadata": {},
     "output_type": "execute_result"
    }
   ],
   "source": [
    "origin_airports.head()"
   ]
  },
  {
   "cell_type": "markdown",
   "metadata": {},
   "source": [
    "Filtering the top 3 destination airports by mean departure delay:"
   ]
  },
  {
   "cell_type": "code",
   "execution_count": 44,
   "metadata": {
    "ExecuteTime": {
     "end_time": "2019-09-16T17:18:38.442810Z",
     "start_time": "2019-09-16T17:18:38.437201Z"
    }
   },
   "outputs": [
    {
     "data": {
      "text/plain": [
       "ORIGIN_AIRPORT\n",
       "EWR    68.116406\n",
       "ORD    66.678689\n",
       "MCO    66.054318\n",
       "Name: mean, dtype: float64"
      ]
     },
     "execution_count": 44,
     "metadata": {},
     "output_type": "execute_result"
    }
   ],
   "source": [
    "top3_airports_dep_del = origin_airports['DEPARTURE_DELAY']['mean'].sort_values(ascending=False).head(3)\n",
    "top3_airports_dep_del"
   ]
  },
  {
   "cell_type": "markdown",
   "metadata": {},
   "source": [
    "Confidence intervals by origin airport for TOP3 Airports:"
   ]
  },
  {
   "cell_type": "code",
   "execution_count": 45,
   "metadata": {
    "ExecuteTime": {
     "end_time": "2019-09-16T17:18:52.347976Z",
     "start_time": "2019-09-16T17:18:52.287478Z"
    }
   },
   "outputs": [
    {
     "name": "stdout",
     "output_type": "stream",
     "text": [
      "The mean Departure delay expected amongst EWR delayed flights is between 66.99 and 69.25 minutes with a 95% confidence.\n",
      "The mean Departure delay expected amongst ORD delayed flights is between 65.94 and 67.42 minutes with a 95% confidence.\n",
      "The mean Departure delay expected amongst MCO delayed flights is between 64.96 and 67.15 minutes with a 95% confidence.\n"
     ]
    }
   ],
   "source": [
    "for i in list(top3_airports_dep_del.index):\n",
    "    # Subsetting\n",
    "    subset = delayed['DEPARTURE_DELAY'].loc[delayed.ORIGIN_AIRPORT == i]\n",
    "    \n",
    "    # Statistics\n",
    "    mean = subset.mean()\n",
    "    std = np.std(subset)\n",
    "    t = stats.t.interval(0.95, ((len(subset))-1))[1]\n",
    "    \n",
    "    # Construction\n",
    "    low = (mean - t*(std/math.sqrt(len(subset)))).round(2)\n",
    "    high = (mean + t*(std/math.sqrt(len(subset)))).round(2)\n",
    "    \n",
    "    # Interpretation\n",
    "    print('The mean Departure delay expected amongst {} delayed flights is between {} and {} minutes with a 95% confidence.'.format(i, low, high))"
   ]
  },
  {
   "cell_type": "markdown",
   "metadata": {},
   "source": [
    "#### Grouping by destination airport"
   ]
  },
  {
   "cell_type": "code",
   "execution_count": 46,
   "metadata": {
    "ExecuteTime": {
     "end_time": "2019-09-16T17:20:09.044283Z",
     "start_time": "2019-09-16T17:20:08.699423Z"
    }
   },
   "outputs": [],
   "source": [
    "destination_airports = delayed[['ORIGIN_AIRPORT', 'DESTINATION_AIRPORT', \n",
    "                                'DEPARTURE_DELAY', 'ARRIVAL_DELAY']].groupby('DESTINATION_AIRPORT', \n",
    "                                                                             as_index=False).agg(functions)"
   ]
  },
  {
   "cell_type": "code",
   "execution_count": 47,
   "metadata": {
    "ExecuteTime": {
     "end_time": "2019-09-16T17:20:10.815525Z",
     "start_time": "2019-09-16T17:20:10.797024Z"
    }
   },
   "outputs": [
    {
     "data": {
      "text/html": [
       "<div>\n",
       "<style scoped>\n",
       "    .dataframe tbody tr th:only-of-type {\n",
       "        vertical-align: middle;\n",
       "    }\n",
       "\n",
       "    .dataframe tbody tr th {\n",
       "        vertical-align: top;\n",
       "    }\n",
       "\n",
       "    .dataframe thead tr th {\n",
       "        text-align: left;\n",
       "    }\n",
       "\n",
       "    .dataframe thead tr:last-of-type th {\n",
       "        text-align: right;\n",
       "    }\n",
       "</style>\n",
       "<table border=\"1\" class=\"dataframe\">\n",
       "  <thead>\n",
       "    <tr>\n",
       "      <th></th>\n",
       "      <th colspan=\"8\" halign=\"left\">DEPARTURE_DELAY</th>\n",
       "      <th colspan=\"8\" halign=\"left\">ARRIVAL_DELAY</th>\n",
       "    </tr>\n",
       "    <tr>\n",
       "      <th></th>\n",
       "      <th>mean</th>\n",
       "      <th>std</th>\n",
       "      <th>amin</th>\n",
       "      <th>amax</th>\n",
       "      <th>quant75</th>\n",
       "      <th>median</th>\n",
       "      <th>quant25</th>\n",
       "      <th>iqr</th>\n",
       "      <th>mean</th>\n",
       "      <th>std</th>\n",
       "      <th>amin</th>\n",
       "      <th>amax</th>\n",
       "      <th>quant75</th>\n",
       "      <th>median</th>\n",
       "      <th>quant25</th>\n",
       "      <th>iqr</th>\n",
       "    </tr>\n",
       "    <tr>\n",
       "      <th>DESTINATION_AIRPORT</th>\n",
       "      <th></th>\n",
       "      <th></th>\n",
       "      <th></th>\n",
       "      <th></th>\n",
       "      <th></th>\n",
       "      <th></th>\n",
       "      <th></th>\n",
       "      <th></th>\n",
       "      <th></th>\n",
       "      <th></th>\n",
       "      <th></th>\n",
       "      <th></th>\n",
       "      <th></th>\n",
       "      <th></th>\n",
       "      <th></th>\n",
       "      <th></th>\n",
       "    </tr>\n",
       "  </thead>\n",
       "  <tbody>\n",
       "    <tr>\n",
       "      <th>ATL</th>\n",
       "      <td>61.340936</td>\n",
       "      <td>59.694673</td>\n",
       "      <td>-17.0</td>\n",
       "      <td>364.0</td>\n",
       "      <td>82.0</td>\n",
       "      <td>45.0</td>\n",
       "      <td>22.0</td>\n",
       "      <td>60.0</td>\n",
       "      <td>66.094260</td>\n",
       "      <td>55.440039</td>\n",
       "      <td>20.0</td>\n",
       "      <td>335.0</td>\n",
       "      <td>82.00</td>\n",
       "      <td>45.0</td>\n",
       "      <td>29.0</td>\n",
       "      <td>53.00</td>\n",
       "    </tr>\n",
       "    <tr>\n",
       "      <th>BOS</th>\n",
       "      <td>60.577304</td>\n",
       "      <td>55.125461</td>\n",
       "      <td>-17.0</td>\n",
       "      <td>394.0</td>\n",
       "      <td>81.0</td>\n",
       "      <td>46.0</td>\n",
       "      <td>25.0</td>\n",
       "      <td>56.0</td>\n",
       "      <td>64.679975</td>\n",
       "      <td>50.813266</td>\n",
       "      <td>20.0</td>\n",
       "      <td>335.0</td>\n",
       "      <td>81.00</td>\n",
       "      <td>46.0</td>\n",
       "      <td>30.0</td>\n",
       "      <td>51.00</td>\n",
       "    </tr>\n",
       "    <tr>\n",
       "      <th>BWI</th>\n",
       "      <td>61.313465</td>\n",
       "      <td>54.079711</td>\n",
       "      <td>-11.0</td>\n",
       "      <td>339.0</td>\n",
       "      <td>80.0</td>\n",
       "      <td>46.0</td>\n",
       "      <td>27.0</td>\n",
       "      <td>53.0</td>\n",
       "      <td>62.718675</td>\n",
       "      <td>49.936541</td>\n",
       "      <td>20.0</td>\n",
       "      <td>335.0</td>\n",
       "      <td>78.00</td>\n",
       "      <td>44.0</td>\n",
       "      <td>28.0</td>\n",
       "      <td>50.00</td>\n",
       "    </tr>\n",
       "    <tr>\n",
       "      <th>CLT</th>\n",
       "      <td>49.793270</td>\n",
       "      <td>53.684914</td>\n",
       "      <td>-14.0</td>\n",
       "      <td>355.0</td>\n",
       "      <td>68.0</td>\n",
       "      <td>37.0</td>\n",
       "      <td>13.0</td>\n",
       "      <td>55.0</td>\n",
       "      <td>59.051510</td>\n",
       "      <td>49.765834</td>\n",
       "      <td>20.0</td>\n",
       "      <td>334.0</td>\n",
       "      <td>72.75</td>\n",
       "      <td>39.0</td>\n",
       "      <td>27.0</td>\n",
       "      <td>45.75</td>\n",
       "    </tr>\n",
       "    <tr>\n",
       "      <th>DCA</th>\n",
       "      <td>55.739243</td>\n",
       "      <td>53.454933</td>\n",
       "      <td>-14.0</td>\n",
       "      <td>337.0</td>\n",
       "      <td>75.0</td>\n",
       "      <td>43.0</td>\n",
       "      <td>21.0</td>\n",
       "      <td>54.0</td>\n",
       "      <td>62.332864</td>\n",
       "      <td>49.104488</td>\n",
       "      <td>20.0</td>\n",
       "      <td>335.0</td>\n",
       "      <td>77.00</td>\n",
       "      <td>45.0</td>\n",
       "      <td>29.0</td>\n",
       "      <td>48.00</td>\n",
       "    </tr>\n",
       "  </tbody>\n",
       "</table>\n",
       "</div>"
      ],
      "text/plain": [
       "                    DEPARTURE_DELAY                                         \\\n",
       "                               mean        std  amin   amax quant75 median   \n",
       "DESTINATION_AIRPORT                                                          \n",
       "ATL                       61.340936  59.694673 -17.0  364.0    82.0   45.0   \n",
       "BOS                       60.577304  55.125461 -17.0  394.0    81.0   46.0   \n",
       "BWI                       61.313465  54.079711 -11.0  339.0    80.0   46.0   \n",
       "CLT                       49.793270  53.684914 -14.0  355.0    68.0   37.0   \n",
       "DCA                       55.739243  53.454933 -14.0  337.0    75.0   43.0   \n",
       "\n",
       "                                  ARRIVAL_DELAY                          \\\n",
       "                    quant25   iqr          mean        std  amin   amax   \n",
       "DESTINATION_AIRPORT                                                       \n",
       "ATL                    22.0  60.0     66.094260  55.440039  20.0  335.0   \n",
       "BOS                    25.0  56.0     64.679975  50.813266  20.0  335.0   \n",
       "BWI                    27.0  53.0     62.718675  49.936541  20.0  335.0   \n",
       "CLT                    13.0  55.0     59.051510  49.765834  20.0  334.0   \n",
       "DCA                    21.0  54.0     62.332864  49.104488  20.0  335.0   \n",
       "\n",
       "                                                   \n",
       "                    quant75 median quant25    iqr  \n",
       "DESTINATION_AIRPORT                                \n",
       "ATL                   82.00   45.0    29.0  53.00  \n",
       "BOS                   81.00   46.0    30.0  51.00  \n",
       "BWI                   78.00   44.0    28.0  50.00  \n",
       "CLT                   72.75   39.0    27.0  45.75  \n",
       "DCA                   77.00   45.0    29.0  48.00  "
      ]
     },
     "execution_count": 47,
     "metadata": {},
     "output_type": "execute_result"
    }
   ],
   "source": [
    "destination_airports.head()"
   ]
  },
  {
   "cell_type": "markdown",
   "metadata": {},
   "source": [
    "Filtering the top 3 destination airports by mean arrival delay:"
   ]
  },
  {
   "cell_type": "code",
   "execution_count": 48,
   "metadata": {
    "ExecuteTime": {
     "end_time": "2019-09-16T17:20:12.556564Z",
     "start_time": "2019-09-16T17:20:12.549952Z"
    }
   },
   "outputs": [
    {
     "data": {
      "text/plain": [
       "DESTINATION_AIRPORT\n",
       "JFK    72.913930\n",
       "EWR    70.549163\n",
       "ORD    68.867452\n",
       "Name: mean, dtype: float64"
      ]
     },
     "execution_count": 48,
     "metadata": {},
     "output_type": "execute_result"
    }
   ],
   "source": [
    "top3_airports_arr_del = destination_airports['ARRIVAL_DELAY']['mean'].sort_values(ascending=False).head(3)\n",
    "top3_airports_arr_del"
   ]
  },
  {
   "cell_type": "markdown",
   "metadata": {},
   "source": [
    "Confidence intervals by destination airport for TOP3 Airports:"
   ]
  },
  {
   "cell_type": "code",
   "execution_count": 49,
   "metadata": {
    "ExecuteTime": {
     "end_time": "2019-09-16T17:20:16.382974Z",
     "start_time": "2019-09-16T17:20:16.328167Z"
    }
   },
   "outputs": [
    {
     "name": "stdout",
     "output_type": "stream",
     "text": [
      "The mean Departure delay expected amongst JFK delayed flights is between 67.84 and 70.11 minutes with a 95% confidence.\n",
      "The mean Departure delay expected amongst EWR delayed flights is between 68.18 and 70.34 minutes with a 95% confidence.\n",
      "The mean Departure delay expected amongst ORD delayed flights is between 60.15 and 61.76 minutes with a 95% confidence.\n"
     ]
    }
   ],
   "source": [
    "for i in list(top3_airports_arr_del.index):\n",
    "    # Subsetting\n",
    "    subset = delayed['DEPARTURE_DELAY'].loc[delayed.DESTINATION_AIRPORT == i]\n",
    "    \n",
    "    # Statistics\n",
    "    mean = subset.mean()\n",
    "    std = np.std(subset)\n",
    "    t = stats.t.interval(0.95, ((len(subset))-1))[1]\n",
    "    \n",
    "    # Construction\n",
    "    low = (mean - t*(std/math.sqrt(len(subset)))).round(2)\n",
    "    high = (mean + t*(std/math.sqrt(len(subset)))).round(2)\n",
    "    \n",
    "    # Interpretation\n",
    "    print('The mean Departure delay expected amongst {} delayed flights is between {} and {} minutes with a 95% confidence.'.format(i, low, high))"
   ]
  },
  {
   "cell_type": "markdown",
   "metadata": {},
   "source": [
    "### Proportion of long delay flights among all flights"
   ]
  },
  {
   "cell_type": "code",
   "execution_count": 50,
   "metadata": {
    "ExecuteTime": {
     "end_time": "2019-09-16T17:20:27.107553Z",
     "start_time": "2019-09-16T17:20:27.093084Z"
    }
   },
   "outputs": [
    {
     "name": "stdout",
     "output_type": "stream",
     "text": [
      "The proportion of flights delayed over 2h among all flights is 2.00%\n"
     ]
    }
   ],
   "source": [
    "long_delay = (((len(flights['ARRIVAL_DELAY'].loc[flights['ARRIVAL_DELAY'] >= 120])) / TOTAL_FLIGHTS) * 100)\n",
    "print('The proportion of flights delayed over 2h among all flights is {0:.2f}%'.format(long_delay))"
   ]
  },
  {
   "cell_type": "markdown",
   "metadata": {},
   "source": [
    "#### Confidence interval"
   ]
  },
  {
   "cell_type": "code",
   "execution_count": 51,
   "metadata": {
    "ExecuteTime": {
     "end_time": "2019-09-16T17:20:31.316444Z",
     "start_time": "2019-09-16T17:20:31.297644Z"
    }
   },
   "outputs": [
    {
     "name": "stdout",
     "output_type": "stream",
     "text": [
      "The expected proportion of delayed flights for longer than 2h is between 1.98% and 2.01% with a 99% confidence.\n"
     ]
    }
   ],
   "source": [
    "# Variables \n",
    "score_99 = stats.norm.interval(0.99)[1];\n",
    "\n",
    "# Parameters\n",
    "prop = ((len(flights['ARRIVAL_DELAY'].loc[flights['ARRIVAL_DELAY'] >= 120])) / TOTAL_FLIGHTS)\n",
    "eep = math.sqrt(((prop * (1 - prop)) / TOTAL_FLIGHTS))\n",
    "\n",
    "# Confidence interval\n",
    "number = score_99*eep\n",
    "low = ((prop - number)*100).round(2)\n",
    "high = ((prop + number)*100).round(2)\n",
    "\n",
    "# Output:\n",
    "print('The expected proportion of delayed flights for longer than 2h is between {}% and {}% with a 99% confidence.'.format(low, high))"
   ]
  },
  {
   "cell_type": "markdown",
   "metadata": {},
   "source": [
    "### Proportion of long delay flights among all the flights of #1 company in terms of number of flights"
   ]
  },
  {
   "cell_type": "code",
   "execution_count": 52,
   "metadata": {
    "ExecuteTime": {
     "end_time": "2019-09-16T17:20:37.632841Z",
     "start_time": "2019-09-16T17:20:37.268078Z"
    }
   },
   "outputs": [],
   "source": [
    "top1_airline = flights.AIRLINE.value_counts().index[0]"
   ]
  },
  {
   "cell_type": "code",
   "execution_count": 54,
   "metadata": {
    "ExecuteTime": {
     "end_time": "2019-09-16T17:20:59.405310Z",
     "start_time": "2019-09-16T17:20:58.922484Z"
    }
   },
   "outputs": [],
   "source": [
    "total_top1_flights = len(flights.AIRLINE.loc[flights.AIRLINE == top1_airline])\n",
    "delayed_top1_flights = len(flights.AIRLINE.loc[(flights.AIRLINE == top1_airline\n",
    "                                             ) & (flights.ARRIVAL_DELAY >= 120)])\n",
    "prop_del_airline = (delayed_top1_flights / total_top1_flights)*100"
   ]
  },
  {
   "cell_type": "code",
   "execution_count": 55,
   "metadata": {
    "ExecuteTime": {
     "end_time": "2019-09-16T17:21:01.163511Z",
     "start_time": "2019-09-16T17:21:01.160739Z"
    }
   },
   "outputs": [
    {
     "name": "stdout",
     "output_type": "stream",
     "text": [
      "The proportion of flights delayed over 2h among all WN flights is 1.59 %\n"
     ]
    }
   ],
   "source": [
    "print('The proportion of flights delayed over 2h among all WN flights is {0:.2f} %'.format(prop_del_airline))"
   ]
  },
  {
   "cell_type": "markdown",
   "metadata": {},
   "source": [
    "#### Confidence interval"
   ]
  },
  {
   "cell_type": "code",
   "execution_count": 59,
   "metadata": {
    "ExecuteTime": {
     "end_time": "2019-09-16T17:21:30.270604Z",
     "start_time": "2019-09-16T17:21:30.264160Z"
    }
   },
   "outputs": [
    {
     "name": "stdout",
     "output_type": "stream",
     "text": [
      "The expected proportion of delayed flights for longer than 2h for WN is between 1.56% and 1.62% with a 99% confidence.\n"
     ]
    }
   ],
   "source": [
    "# Variables \n",
    "score_99 = stats.norm.interval(0.99)[1];\n",
    "\n",
    "# Parameters\n",
    "prop = (prop_del_airline )/ 100\n",
    "eep = math.sqrt(((prop * (1 - prop)) / total_top1_flights))\n",
    "\n",
    "# Confidence interval\n",
    "number = score_99*eep\n",
    "low = ((prop - number)*100).round(2)\n",
    "high = ((prop + number)*100).round(2)\n",
    "\n",
    "# Output:\n",
    "print('The expected proportion of delayed flights for longer than 2h for WN is between {}% and {}% with a 99% confidence.'.format(low, high))"
   ]
  },
  {
   "cell_type": "markdown",
   "metadata": {},
   "source": [
    "### Proportion of long delay **ORIGIN** flights in the #1 Airport in terms of number of total departures"
   ]
  },
  {
   "cell_type": "code",
   "execution_count": 60,
   "metadata": {
    "ExecuteTime": {
     "end_time": "2019-09-16T17:21:32.938794Z",
     "start_time": "2019-09-16T17:21:32.548325Z"
    }
   },
   "outputs": [],
   "source": [
    "top1_airport = flights.ORIGIN_AIRPORT.value_counts().index[0]"
   ]
  },
  {
   "cell_type": "code",
   "execution_count": 63,
   "metadata": {
    "ExecuteTime": {
     "end_time": "2019-09-16T17:21:55.119095Z",
     "start_time": "2019-09-16T17:21:54.652760Z"
    }
   },
   "outputs": [],
   "source": [
    "total_top1_airport_flights = len(flights.ORIGIN_AIRPORT.loc[flights.ORIGIN_AIRPORT == top1_airport])\n",
    "delayed_top1_airport_flights = len(flights.ORIGIN_AIRPORT.loc[(flights.ORIGIN_AIRPORT == top1_airport\n",
    "                                                              ) & (flights.DEPARTURE_DELAY >=120)])\n",
    "prop_del_dep_airport = (delayed_top1_airport_flights / total_top1_airport_flights)*100\n",
    "prop_del_dep_airport = round(prop_del_dep_airport, 2)"
   ]
  },
  {
   "cell_type": "code",
   "execution_count": 64,
   "metadata": {
    "ExecuteTime": {
     "end_time": "2019-09-16T17:21:56.870929Z",
     "start_time": "2019-09-16T17:21:56.868215Z"
    }
   },
   "outputs": [
    {
     "name": "stdout",
     "output_type": "stream",
     "text": [
      "The proportion of departures delayed over 2h among all ATL flights is 1.73 %\n"
     ]
    }
   ],
   "source": [
    "print('The proportion of departures delayed over 2h among all {} flights is {} %'.format(top1_airport, prop_del_dep_airport))"
   ]
  },
  {
   "cell_type": "markdown",
   "metadata": {},
   "source": [
    "#### Confidence interval"
   ]
  },
  {
   "cell_type": "code",
   "execution_count": 65,
   "metadata": {
    "ExecuteTime": {
     "end_time": "2019-09-16T17:21:59.917875Z",
     "start_time": "2019-09-16T17:21:59.905600Z"
    }
   },
   "outputs": [
    {
     "name": "stdout",
     "output_type": "stream",
     "text": [
      "The expected proportion of delayed departures for longer than 2h in ATL airport is between 1.67% and 1.79% with a 99% confidence.\n"
     ]
    }
   ],
   "source": [
    "# Variables \n",
    "score_99 = stats.norm.interval(0.99)[1];\n",
    "\n",
    "# Parameters\n",
    "prop = prop_del_dep_airport / 100\n",
    "eep = math.sqrt(((prop * (1 - prop)) / total_top1_airport_flights))\n",
    "\n",
    "# Confidence interval\n",
    "number = score_99*eep\n",
    "low = ((prop - number)*100).round(2)\n",
    "high = ((prop + number)*100).round(2)\n",
    "\n",
    "# Output:\n",
    "print('The expected proportion of delayed departures for longer than 2h in ATL airport is between {}% and {}% with a 99% confidence.'.format(low, high))"
   ]
  },
  {
   "cell_type": "markdown",
   "metadata": {},
   "source": [
    "### Proportion of long delay **DESTINATION** flights in the #1 Airport in terms of number of total arrivals"
   ]
  },
  {
   "cell_type": "code",
   "execution_count": 66,
   "metadata": {
    "ExecuteTime": {
     "end_time": "2019-09-16T17:22:10.519627Z",
     "start_time": "2019-09-16T17:22:10.143007Z"
    }
   },
   "outputs": [],
   "source": [
    "top1_airport = flights.DESTINATION_AIRPORT.value_counts().index[0]"
   ]
  },
  {
   "cell_type": "code",
   "execution_count": 67,
   "metadata": {
    "ExecuteTime": {
     "end_time": "2019-09-16T17:22:12.729777Z",
     "start_time": "2019-09-16T17:22:12.278946Z"
    }
   },
   "outputs": [],
   "source": [
    "total_top1_airport_flights = len(flights.DESTINATION_AIRPORT.loc[flights.DESTINATION_AIRPORT == top1_airport])\n",
    "delayed_top1_airport_flights = len(flights.DESTINATION_AIRPORT.loc[(flights.DESTINATION_AIRPORT == top1_airport\n",
    "                                                              ) & (flights.DEPARTURE_DELAY >=120)])\n",
    "prop_del_arr_airport = (delayed_top1_airport_flights / total_top1_airport_flights)*100\n",
    "prop_del_arr_airport = round(prop_del_arr_airport,2)"
   ]
  },
  {
   "cell_type": "code",
   "execution_count": 68,
   "metadata": {
    "ExecuteTime": {
     "end_time": "2019-09-16T17:22:14.477680Z",
     "start_time": "2019-09-16T17:22:14.474899Z"
    }
   },
   "outputs": [
    {
     "name": "stdout",
     "output_type": "stream",
     "text": [
      "The proportion of arrivals delayed over 2h among all ATL flights is 2.09 %\n"
     ]
    }
   ],
   "source": [
    "print('The proportion of arrivals delayed over 2h among all {} flights is {} %'.format(top1_airport, prop_del_arr_airport))"
   ]
  },
  {
   "cell_type": "markdown",
   "metadata": {},
   "source": [
    "#### Confidence intervals"
   ]
  },
  {
   "cell_type": "code",
   "execution_count": 69,
   "metadata": {
    "ExecuteTime": {
     "end_time": "2019-09-16T17:22:19.695250Z",
     "start_time": "2019-09-16T17:22:19.683048Z"
    }
   },
   "outputs": [
    {
     "name": "stdout",
     "output_type": "stream",
     "text": [
      "The expected proportion of delayed departures for longer than 2h in ATL airport is between 2.03% and 2.15% with a 99% confidence.\n"
     ]
    }
   ],
   "source": [
    "# Variables \n",
    "score_99 = stats.norm.interval(0.99)[1];\n",
    "\n",
    "# Parameters\n",
    "prop = prop_del_arr_airport / 100\n",
    "eep = math.sqrt(((prop * (1 - prop)) / total_top1_airport_flights))\n",
    "\n",
    "# Confidence interval\n",
    "number = score_99*eep\n",
    "low = ((prop - number)*100).round(2)\n",
    "high = ((prop + number)*100).round(2)\n",
    "\n",
    "# Output:\n",
    "print('The expected proportion of delayed departures for longer than 2h in {} airport is between {}% and {}% with a 99% confidence.'.format(top1_airport, low, high))"
   ]
  },
  {
   "cell_type": "markdown",
   "metadata": {},
   "source": [
    "## Hypothesis Testing"
   ]
  },
  {
   "cell_type": "markdown",
   "metadata": {},
   "source": [
    "### Is there a significant correlation between mean departure and arrival delay for those flights delayed longer than 2h in the TOP30 US airports?"
   ]
  },
  {
   "cell_type": "markdown",
   "metadata": {},
   "source": [
    "I use a two sample matched pairs T test (same flights for departure and arrival) to try to demonstrate a significant correlation between mean departure and arrival delays for those flights departing late from the top 30 airports which suffer an arrival delay equal or longer than 2h."
   ]
  },
  {
   "cell_type": "markdown",
   "metadata": {},
   "source": [
    "**H0:** mean departure delay = mean arrival delay\n",
    "\n",
    "**H1:** mean departure delay != mean arrival delay"
   ]
  },
  {
   "cell_type": "code",
   "execution_count": 70,
   "metadata": {
    "ExecuteTime": {
     "end_time": "2019-09-16T17:22:32.519383Z",
     "start_time": "2019-09-16T17:22:32.511606Z"
    }
   },
   "outputs": [],
   "source": [
    "departure = delayed.DEPARTURE_DELAY.loc[delayed.ARRIVAL_DELAY >= 120]\n",
    "arrival = delayed.ARRIVAL_DELAY.loc[delayed.ARRIVAL_DELAY >= 120]"
   ]
  },
  {
   "cell_type": "code",
   "execution_count": 71,
   "metadata": {
    "ExecuteTime": {
     "end_time": "2019-09-16T17:22:34.411452Z",
     "start_time": "2019-09-16T17:22:34.407203Z"
    }
   },
   "outputs": [
    {
     "data": {
      "text/plain": [
       "'Our p value (0.0) is smaller than our alpha (0.05). H0 is rejected'"
      ]
     },
     "execution_count": 71,
     "metadata": {},
     "output_type": "execute_result"
    }
   ],
   "source": [
    "result = ttest_rel(departure, arrival)\n",
    "hyp_checker(result[1])"
   ]
  },
  {
   "cell_type": "markdown",
   "metadata": {},
   "source": [
    "We cannot demonstrate that there is a significant correlation between mean departure and arrival delays."
   ]
  },
  {
   "cell_type": "markdown",
   "metadata": {},
   "source": [
    "### Are arrival delays on weekends (Fri-Sat-Sun) significantly different from those on weekdays (Mon-Tue-Wed-Thu) for flights delayed in the TOP30 US airports?"
   ]
  },
  {
   "cell_type": "markdown",
   "metadata": {},
   "source": [
    "#### Total delays:"
   ]
  },
  {
   "cell_type": "markdown",
   "metadata": {},
   "source": [
    "**H0:** There are no differences in arrival delays between weekdays and weekends.\n",
    "\n",
    "**H1:** There are differences in arrival delays between weekdays and weekends."
   ]
  },
  {
   "cell_type": "code",
   "execution_count": 72,
   "metadata": {
    "ExecuteTime": {
     "end_time": "2019-09-16T17:22:45.253304Z",
     "start_time": "2019-09-16T17:22:45.235817Z"
    }
   },
   "outputs": [],
   "source": [
    "weekdays = [1, 2, 3, 4]\n",
    "weekends = [5, 6, 7]\n",
    "\n",
    "week = delayed.ARRIVAL_DELAY.loc[delayed.DAY_OF_WEEK.isin(weekdays)]\n",
    "weekend = delayed.ARRIVAL_DELAY.loc[delayed.DAY_OF_WEEK.isin(weekends)]"
   ]
  },
  {
   "cell_type": "code",
   "execution_count": 73,
   "metadata": {
    "ExecuteTime": {
     "end_time": "2019-09-16T17:22:47.254279Z",
     "start_time": "2019-09-16T17:22:47.249141Z"
    }
   },
   "outputs": [
    {
     "data": {
      "text/plain": [
       "Ttest_indResult(statistic=7.718407129525227, pvalue=1.181896006059053e-14)"
      ]
     },
     "execution_count": 73,
     "metadata": {},
     "output_type": "execute_result"
    }
   ],
   "source": [
    "result = ttest_ind(week, weekend, equal_var=False)\n",
    "result"
   ]
  },
  {
   "cell_type": "code",
   "execution_count": 74,
   "metadata": {
    "ExecuteTime": {
     "end_time": "2019-09-16T17:22:49.801259Z",
     "start_time": "2019-09-16T17:22:49.796857Z"
    }
   },
   "outputs": [
    {
     "data": {
      "text/plain": [
       "'Our p value (0.0) is smaller than our alpha (0.05). H0 is rejected'"
      ]
     },
     "execution_count": 74,
     "metadata": {},
     "output_type": "execute_result"
    }
   ],
   "source": [
    "hyp_checker(result[1])"
   ]
  },
  {
   "cell_type": "markdown",
   "metadata": {},
   "source": [
    "We cannot conclude that there are no differences in arrival delays between weekend and weekdays."
   ]
  },
  {
   "cell_type": "markdown",
   "metadata": {},
   "source": [
    "#### Long delays:"
   ]
  },
  {
   "cell_type": "markdown",
   "metadata": {},
   "source": [
    "**H0:** There are no differences in arrival delays between weekdays and weekends.\n",
    "\n",
    "**H1:** There are differences in arrival delays between weekdays and weekends."
   ]
  },
  {
   "cell_type": "code",
   "execution_count": 75,
   "metadata": {
    "ExecuteTime": {
     "end_time": "2019-09-16T17:22:57.438611Z",
     "start_time": "2019-09-16T17:22:57.426150Z"
    }
   },
   "outputs": [],
   "source": [
    "week = delayed.ARRIVAL_DELAY.loc[(delayed.DAY_OF_WEEK.isin(weekdays)) & (delayed.ARRIVAL_DELAY >= 120)]\n",
    "weekend = delayed.ARRIVAL_DELAY.loc[(delayed.DAY_OF_WEEK.isin(weekends)) & (delayed.ARRIVAL_DELAY >= 120)]"
   ]
  },
  {
   "cell_type": "code",
   "execution_count": 76,
   "metadata": {
    "ExecuteTime": {
     "end_time": "2019-09-16T17:22:59.383902Z",
     "start_time": "2019-09-16T17:22:59.379096Z"
    }
   },
   "outputs": [
    {
     "data": {
      "text/plain": [
       "Ttest_indResult(statistic=-0.17010782336501282, pvalue=0.8649264264793952)"
      ]
     },
     "execution_count": 76,
     "metadata": {},
     "output_type": "execute_result"
    }
   ],
   "source": [
    "result = ttest_ind(week, weekend, equal_var=False)\n",
    "result"
   ]
  },
  {
   "cell_type": "code",
   "execution_count": 77,
   "metadata": {
    "ExecuteTime": {
     "end_time": "2019-09-16T17:23:02.029365Z",
     "start_time": "2019-09-16T17:23:02.021945Z"
    }
   },
   "outputs": [
    {
     "data": {
      "text/plain": [
       "'Our p value (0.86) is bigger than our alpha (0.05). Fail to reject H0'"
      ]
     },
     "execution_count": 77,
     "metadata": {},
     "output_type": "execute_result"
    }
   ],
   "source": [
    "hyp_checker(result[1])"
   ]
  },
  {
   "cell_type": "markdown",
   "metadata": {},
   "source": [
    "H0 cannot be rejected, so we cannot conclude that there are differences in long arrival delays between weekdays and weekends."
   ]
  },
  {
   "cell_type": "markdown",
   "metadata": {},
   "source": [
    "### Are there differences between variances on the arrival delay for the TOP5 airlines? "
   ]
  },
  {
   "cell_type": "markdown",
   "metadata": {},
   "source": [
    "**H0:** all groups have the same population mean.\n",
    "\n",
    "**H1:** at least one mean differs."
   ]
  },
  {
   "cell_type": "code",
   "execution_count": 78,
   "metadata": {
    "ExecuteTime": {
     "end_time": "2019-09-16T17:23:12.063784Z",
     "start_time": "2019-09-16T17:23:12.057863Z"
    }
   },
   "outputs": [
    {
     "data": {
      "text/plain": [
       "'\\n\\n# Printing out the different groups in order to assign them to the ANOVA function:\\nprint(\"result = stats.kruskal(\")\\nfor i in list(flights.AIRLINE.value_counts().index):\\n    print(\"flights.ARRIVAL_DELAY.loc[flights.AIRLINE == \\'{}\\'].dropna(),\".format(i))\\n\\n'"
      ]
     },
     "execution_count": 78,
     "metadata": {},
     "output_type": "execute_result"
    }
   ],
   "source": [
    "\"\"\"\n",
    "\n",
    "# Printing out the different groups in order to assign them to the ANOVA function:\n",
    "print(\"result = stats.kruskal(\")\n",
    "for i in list(flights.AIRLINE.value_counts().index):\n",
    "    print(\"flights.ARRIVAL_DELAY.loc[flights.AIRLINE == '{}'].dropna(),\".format(i))\n",
    "\n",
    "\"\"\""
   ]
  },
  {
   "cell_type": "code",
   "execution_count": 79,
   "metadata": {
    "ExecuteTime": {
     "end_time": "2019-09-16T17:23:14.315793Z",
     "start_time": "2019-09-16T17:23:14.063527Z"
    }
   },
   "outputs": [
    {
     "data": {
      "text/plain": [
       "NormaltestResult(statistic=555862.929242624, pvalue=0.0)"
      ]
     },
     "execution_count": 79,
     "metadata": {},
     "output_type": "execute_result"
    }
   ],
   "source": [
    "# Testing normality of the distributions:\n",
    "normaltest(flights.ARRIVAL_DELAY.loc[flights.AIRLINE == 'EV'].dropna())"
   ]
  },
  {
   "cell_type": "markdown",
   "metadata": {},
   "source": [
    "The distribution of the groups is not normal, as demonstrated by the normal test performed over the different groups, so I have to use a non-parametric test. Kruskal Wallis is the one chosen, given the characteristics of my variables. "
   ]
  },
  {
   "cell_type": "code",
   "execution_count": 80,
   "metadata": {
    "ExecuteTime": {
     "end_time": "2019-09-16T17:23:18.304656Z",
     "start_time": "2019-09-16T17:23:16.241793Z"
    }
   },
   "outputs": [
    {
     "data": {
      "text/plain": [
       "KruskalResult(statistic=47196.68302365132, pvalue=0.0)"
      ]
     },
     "execution_count": 80,
     "metadata": {},
     "output_type": "execute_result"
    }
   ],
   "source": [
    "result = stats.kruskal(flights.ARRIVAL_DELAY.loc[flights.AIRLINE == 'WN'].dropna(),\n",
    "                      flights.ARRIVAL_DELAY.loc[flights.AIRLINE == 'DL'].dropna(),\n",
    "                      flights.ARRIVAL_DELAY.loc[flights.AIRLINE == 'AA'].dropna(),\n",
    "                      flights.ARRIVAL_DELAY.loc[flights.AIRLINE == 'OO'].dropna(),\n",
    "                      flights.ARRIVAL_DELAY.loc[flights.AIRLINE == 'EV'].dropna())\n",
    "\n",
    "result"
   ]
  },
  {
   "cell_type": "code",
   "execution_count": 81,
   "metadata": {
    "ExecuteTime": {
     "end_time": "2019-09-16T17:23:20.143397Z",
     "start_time": "2019-09-16T17:23:20.139083Z"
    }
   },
   "outputs": [
    {
     "data": {
      "text/plain": [
       "'Our p value (0.0) is smaller than our alpha (0.05). H0 is rejected'"
      ]
     },
     "execution_count": 81,
     "metadata": {},
     "output_type": "execute_result"
    }
   ],
   "source": [
    "hyp_checker(result[1])"
   ]
  },
  {
   "cell_type": "markdown",
   "metadata": {},
   "source": [
    "We cannot conclude that there are no differences between the groups."
   ]
  },
  {
   "cell_type": "markdown",
   "metadata": {},
   "source": [
    "### Are there differences between variances on the arrival delay for the TOP30 airports? "
   ]
  },
  {
   "cell_type": "markdown",
   "metadata": {
    "ExecuteTime": {
     "end_time": "2019-09-16T16:33:15.913251Z",
     "start_time": "2019-09-16T16:33:15.908886Z"
    }
   },
   "source": [
    "**H0:** all groups have the same population mean.\n",
    "\n",
    "**H1:** at least one mean differs."
   ]
  },
  {
   "cell_type": "code",
   "execution_count": 82,
   "metadata": {
    "ExecuteTime": {
     "end_time": "2019-09-16T17:23:31.365804Z",
     "start_time": "2019-09-16T17:23:31.361876Z"
    }
   },
   "outputs": [
    {
     "data": {
      "text/plain": [
       "'\\nprintº(\"result = f_oneway(\")\\nfor i in list(top30):\\n    x = delayed.ARRIVAL_DELAY.loc[delayed.DESTINATION_AIRPORT == i].dropna()\\n    if len(x) != 0:\\n        print(\"delayed.ARRIVAL_DELAY.loc[delayed.DESTINATION_AIRPORT == \\'{}\\'].dropna(),\".format(i))\\n'"
      ]
     },
     "execution_count": 82,
     "metadata": {},
     "output_type": "execute_result"
    }
   ],
   "source": [
    "# Printing out the different groups in order to assign them to the ANOVA function:\n",
    "\"\"\"\n",
    "printº(\"result = f_oneway(\")\n",
    "for i in list(top30):\n",
    "    x = delayed.ARRIVAL_DELAY.loc[delayed.DESTINATION_AIRPORT == i].dropna()\n",
    "    if len(x) != 0:\n",
    "        print(\"delayed.ARRIVAL_DELAY.loc[delayed.DESTINATION_AIRPORT == '{}'].dropna(),\".format(i))\n",
    "\"\"\""
   ]
  },
  {
   "cell_type": "code",
   "execution_count": 83,
   "metadata": {
    "ExecuteTime": {
     "end_time": "2019-09-16T17:23:33.361191Z",
     "start_time": "2019-09-16T17:23:33.342318Z"
    }
   },
   "outputs": [
    {
     "data": {
      "text/plain": [
       "NormaltestResult(statistic=8063.500064773714, pvalue=0.0)"
      ]
     },
     "execution_count": 83,
     "metadata": {},
     "output_type": "execute_result"
    }
   ],
   "source": [
    "# Testing normality of the distributions:\n",
    "normaltest(delayed.ARRIVAL_DELAY.loc[delayed.DESTINATION_AIRPORT == 'SFO'])"
   ]
  },
  {
   "cell_type": "markdown",
   "metadata": {},
   "source": [
    "The distribution of the groups is not normal, as demonstrated by the normal test performed over the different groups, so I have to use a non-parametric test. Kruskal Wallis is the one chosen, given the characteristics of my variables. "
   ]
  },
  {
   "cell_type": "code",
   "execution_count": 84,
   "metadata": {
    "ExecuteTime": {
     "end_time": "2019-09-16T17:23:35.598775Z",
     "start_time": "2019-09-16T17:23:35.178556Z"
    }
   },
   "outputs": [
    {
     "data": {
      "text/plain": [
       "KruskalResult(statistic=1790.6349397739154, pvalue=0.0)"
      ]
     },
     "execution_count": 84,
     "metadata": {},
     "output_type": "execute_result"
    }
   ],
   "source": [
    "result = stats.kruskal(delayed.ARRIVAL_DELAY.loc[delayed.DESTINATION_AIRPORT == 'ATL'].dropna(),\n",
    "                      delayed.ARRIVAL_DELAY.loc[delayed.DESTINATION_AIRPORT == 'LAX'].dropna(),\n",
    "                      delayed.ARRIVAL_DELAY.loc[delayed.DESTINATION_AIRPORT == 'ORD'].dropna(),\n",
    "                      delayed.ARRIVAL_DELAY.loc[delayed.DESTINATION_AIRPORT == 'DFW'].dropna(),\n",
    "                      delayed.ARRIVAL_DELAY.loc[delayed.DESTINATION_AIRPORT == 'DEN'].dropna(),\n",
    "                      delayed.ARRIVAL_DELAY.loc[delayed.DESTINATION_AIRPORT == 'JFK'].dropna(),\n",
    "                      delayed.ARRIVAL_DELAY.loc[delayed.DESTINATION_AIRPORT == 'SFO'].dropna(),\n",
    "                      delayed.ARRIVAL_DELAY.loc[delayed.DESTINATION_AIRPORT == 'SEA'].dropna(),\n",
    "                      delayed.ARRIVAL_DELAY.loc[delayed.DESTINATION_AIRPORT == 'LAS'].dropna(),\n",
    "                      delayed.ARRIVAL_DELAY.loc[delayed.DESTINATION_AIRPORT == 'MCO'].dropna(),\n",
    "                      delayed.ARRIVAL_DELAY.loc[delayed.DESTINATION_AIRPORT == 'EWR'].dropna(),\n",
    "                      delayed.ARRIVAL_DELAY.loc[delayed.DESTINATION_AIRPORT == 'CLT'].dropna(),\n",
    "                      delayed.ARRIVAL_DELAY.loc[delayed.DESTINATION_AIRPORT == 'PHX'].dropna(),\n",
    "                      delayed.ARRIVAL_DELAY.loc[delayed.DESTINATION_AIRPORT == 'IAH'].dropna(),\n",
    "                      delayed.ARRIVAL_DELAY.loc[delayed.DESTINATION_AIRPORT == 'MIA'].dropna(),\n",
    "                      delayed.ARRIVAL_DELAY.loc[delayed.DESTINATION_AIRPORT == 'BOS'].dropna(),\n",
    "                      delayed.ARRIVAL_DELAY.loc[delayed.DESTINATION_AIRPORT == 'MSP'].dropna(),\n",
    "                      delayed.ARRIVAL_DELAY.loc[delayed.DESTINATION_AIRPORT == 'FLL'].dropna(),\n",
    "                      delayed.ARRIVAL_DELAY.loc[delayed.DESTINATION_AIRPORT == 'DTW'].dropna(),\n",
    "                      delayed.ARRIVAL_DELAY.loc[delayed.DESTINATION_AIRPORT == 'PHL'].dropna(),\n",
    "                      delayed.ARRIVAL_DELAY.loc[delayed.DESTINATION_AIRPORT == 'BWI'].dropna(),\n",
    "                      delayed.ARRIVAL_DELAY.loc[delayed.DESTINATION_AIRPORT == 'SLC'].dropna(),\n",
    "                      delayed.ARRIVAL_DELAY.loc[delayed.DESTINATION_AIRPORT == 'SAN'].dropna(),\n",
    "                      delayed.ARRIVAL_DELAY.loc[delayed.DESTINATION_AIRPORT == 'IAD'].dropna(),\n",
    "                      delayed.ARRIVAL_DELAY.loc[delayed.DESTINATION_AIRPORT == 'DCA'].dropna(),\n",
    "                      delayed.ARRIVAL_DELAY.loc[delayed.DESTINATION_AIRPORT == 'MDW'].dropna(),\n",
    "                      delayed.ARRIVAL_DELAY.loc[delayed.DESTINATION_AIRPORT == 'TPA'].dropna(),\n",
    "                      delayed.ARRIVAL_DELAY.loc[delayed.DESTINATION_AIRPORT == 'PDX'].dropna(),\n",
    "                      delayed.ARRIVAL_DELAY.loc[delayed.DESTINATION_AIRPORT == 'HNL'].dropna())\n",
    "result"
   ]
  },
  {
   "cell_type": "code",
   "execution_count": 85,
   "metadata": {
    "ExecuteTime": {
     "end_time": "2019-09-16T17:23:37.806458Z",
     "start_time": "2019-09-16T17:23:37.800906Z"
    }
   },
   "outputs": [
    {
     "data": {
      "text/plain": [
       "'Our p value (0.0) is smaller than our alpha (0.05). H0 is rejected'"
      ]
     },
     "execution_count": 85,
     "metadata": {},
     "output_type": "execute_result"
    }
   ],
   "source": [
    "hyp_checker(result[1])"
   ]
  },
  {
   "cell_type": "markdown",
   "metadata": {},
   "source": [
    "We cannot conclude that there are no differences between the groups."
   ]
  },
  {
   "cell_type": "markdown",
   "metadata": {},
   "source": [
    "### Is the difference of mean arrival delay significant between #1 and #2 airlines for those flights delayed longer than 2h?"
   ]
  },
  {
   "cell_type": "markdown",
   "metadata": {},
   "source": [
    "**H0:** There are no significant differences between both airlines (ẍ1 = ẍ2)\n",
    "\n",
    "**H1:** There are significant differences between both airlines (ẍ1 != ẍ2)"
   ]
  },
  {
   "cell_type": "code",
   "execution_count": 86,
   "metadata": {
    "ExecuteTime": {
     "end_time": "2019-09-16T17:23:43.985024Z",
     "start_time": "2019-09-16T17:23:43.946947Z"
    }
   },
   "outputs": [],
   "source": [
    "top1 = delayed['ARRIVAL_DELAY'].loc[(delayed.AIRLINE == top5_airlines_arr_del.index[0])\n",
    "                                    & (delayed.ARRIVAL_DELAY >= 120)]\n",
    "top2 = delayed['ARRIVAL_DELAY'].loc[(delayed.AIRLINE == top5_airlines_arr_del.index[1])\n",
    "                                    & (delayed.ARRIVAL_DELAY >= 120)]"
   ]
  },
  {
   "cell_type": "code",
   "execution_count": 87,
   "metadata": {
    "ExecuteTime": {
     "end_time": "2019-09-16T17:23:45.999796Z",
     "start_time": "2019-09-16T17:23:45.995898Z"
    }
   },
   "outputs": [
    {
     "data": {
      "text/plain": [
       "Ttest_indResult(statistic=-2.524217444440517, pvalue=0.012035638919787796)"
      ]
     },
     "execution_count": 87,
     "metadata": {},
     "output_type": "execute_result"
    }
   ],
   "source": [
    "result = ttest_ind(top1, top2, equal_var=False)\n",
    "result"
   ]
  },
  {
   "cell_type": "code",
   "execution_count": 88,
   "metadata": {
    "ExecuteTime": {
     "end_time": "2019-09-16T17:23:47.856640Z",
     "start_time": "2019-09-16T17:23:47.853372Z"
    }
   },
   "outputs": [
    {
     "data": {
      "text/plain": [
       "'Our p value (0.01) is smaller than our alpha (0.05). H0 is rejected'"
      ]
     },
     "execution_count": 88,
     "metadata": {},
     "output_type": "execute_result"
    }
   ],
   "source": [
    "hyp_checker(result[1])"
   ]
  },
  {
   "cell_type": "markdown",
   "metadata": {},
   "source": [
    "H0 is rejected, so differences must be statistically significant"
   ]
  },
  {
   "cell_type": "markdown",
   "metadata": {},
   "source": [
    "### Is there a significant difference on the porportion of long delay flight among all flights between the #1 airport and the rest of airports?"
   ]
  },
  {
   "cell_type": "markdown",
   "metadata": {},
   "source": [
    "**H0:** There are no significant differences on proportion of long delays between the top1 airport and the rest (%1 = %2)\n",
    "\n",
    "**H1:** There are significant differences on proportion of long delays between the top1 airport and the rest (%1 != %2)"
   ]
  },
  {
   "cell_type": "markdown",
   "metadata": {
    "ExecuteTime": {
     "end_time": "2019-09-16T14:13:47.229879Z",
     "start_time": "2019-09-16T14:13:47.225378Z"
    }
   },
   "source": [
    "The adequate test to demonstrate significant differences between **proportions** for independent samples would be a Chi-squared test"
   ]
  },
  {
   "cell_type": "code",
   "execution_count": 89,
   "metadata": {
    "ExecuteTime": {
     "end_time": "2019-09-16T17:23:52.033178Z",
     "start_time": "2019-09-16T17:23:51.336629Z"
    }
   },
   "outputs": [
    {
     "data": {
      "text/html": [
       "<div>\n",
       "<style scoped>\n",
       "    .dataframe tbody tr th:only-of-type {\n",
       "        vertical-align: middle;\n",
       "    }\n",
       "\n",
       "    .dataframe tbody tr th {\n",
       "        vertical-align: top;\n",
       "    }\n",
       "\n",
       "    .dataframe thead th {\n",
       "        text-align: right;\n",
       "    }\n",
       "</style>\n",
       "<table border=\"1\" class=\"dataframe\">\n",
       "  <thead>\n",
       "    <tr style=\"text-align: right;\">\n",
       "      <th>ARRIVAL_DELAY</th>\n",
       "      <th>False</th>\n",
       "      <th>True</th>\n",
       "    </tr>\n",
       "    <tr>\n",
       "      <th>DESTINATION_AIRPORT</th>\n",
       "      <th></th>\n",
       "      <th></th>\n",
       "    </tr>\n",
       "  </thead>\n",
       "  <tbody>\n",
       "    <tr>\n",
       "      <th>False</th>\n",
       "      <td>5363071</td>\n",
       "      <td>109104</td>\n",
       "    </tr>\n",
       "    <tr>\n",
       "      <th>True</th>\n",
       "      <td>339752</td>\n",
       "      <td>7152</td>\n",
       "    </tr>\n",
       "  </tbody>\n",
       "</table>\n",
       "</div>"
      ],
      "text/plain": [
       "ARRIVAL_DELAY          False   True \n",
       "DESTINATION_AIRPORT                 \n",
       "False                5363071  109104\n",
       "True                  339752    7152"
      ]
     },
     "execution_count": 89,
     "metadata": {},
     "output_type": "execute_result"
    }
   ],
   "source": [
    "# Firstly, I build the contingency table:\n",
    "conting = pd.crosstab(flights['DESTINATION_AIRPORT'] == top1_airport, flights['ARRIVAL_DELAY'] >= 120)\n",
    "conting"
   ]
  },
  {
   "cell_type": "code",
   "execution_count": 90,
   "metadata": {
    "ExecuteTime": {
     "end_time": "2019-09-16T17:23:54.138168Z",
     "start_time": "2019-09-16T17:23:54.133830Z"
    }
   },
   "outputs": [
    {
     "data": {
      "text/plain": [
       "(7.6402043049562645,\n",
       " 0.005708145156142308,\n",
       " 1,\n",
       " array([[5362849.59355682,  109325.40644318],\n",
       "        [ 339973.40644318,    6930.59355682]]))"
      ]
     },
     "execution_count": 90,
     "metadata": {},
     "output_type": "execute_result"
    }
   ],
   "source": [
    "# Then I run the test and get the statitics\n",
    "result = chi2_contingency(conting)\n",
    "result"
   ]
  },
  {
   "cell_type": "code",
   "execution_count": 91,
   "metadata": {
    "ExecuteTime": {
     "end_time": "2019-09-16T17:23:56.000478Z",
     "start_time": "2019-09-16T17:23:55.996367Z"
    }
   },
   "outputs": [
    {
     "data": {
      "text/plain": [
       "'Our p value (0.01) is smaller than our alpha (0.05). H0 is rejected'"
      ]
     },
     "execution_count": 91,
     "metadata": {},
     "output_type": "execute_result"
    }
   ],
   "source": [
    "hyp_checker(result[1])"
   ]
  },
  {
   "cell_type": "markdown",
   "metadata": {
    "ExecuteTime": {
     "end_time": "2019-09-16T16:37:49.272046Z",
     "start_time": "2019-09-16T16:37:49.266015Z"
    }
   },
   "source": [
    "There are significant differences on proportion of long delays between the two top airports (%1 != %2)"
   ]
  }
 ],
 "metadata": {
  "hide_input": false,
  "kernelspec": {
   "display_name": "Python 3",
   "language": "python",
   "name": "python3"
  },
  "language_info": {
   "codemirror_mode": {
    "name": "ipython",
    "version": 3
   },
   "file_extension": ".py",
   "mimetype": "text/x-python",
   "name": "python",
   "nbconvert_exporter": "python",
   "pygments_lexer": "ipython3",
   "version": "3.6.8"
  },
  "toc": {
   "base_numbering": 1,
   "nav_menu": {},
   "number_sections": true,
   "sideBar": true,
   "skip_h1_title": false,
   "title_cell": "Table of Contents",
   "title_sidebar": "Contents",
   "toc_cell": false,
   "toc_position": {},
   "toc_section_display": true,
   "toc_window_display": false
  },
  "varInspector": {
   "cols": {
    "lenName": 16,
    "lenType": 16,
    "lenVar": 40
   },
   "kernels_config": {
    "python": {
     "delete_cmd_postfix": "",
     "delete_cmd_prefix": "del ",
     "library": "var_list.py",
     "varRefreshCmd": "print(var_dic_list())"
    },
    "r": {
     "delete_cmd_postfix": ") ",
     "delete_cmd_prefix": "rm(",
     "library": "var_list.r",
     "varRefreshCmd": "cat(var_dic_list()) "
    }
   },
   "types_to_exclude": [
    "module",
    "function",
    "builtin_function_or_method",
    "instance",
    "_Feature"
   ],
   "window_display": false
  }
 },
 "nbformat": 4,
 "nbformat_minor": 2
}
